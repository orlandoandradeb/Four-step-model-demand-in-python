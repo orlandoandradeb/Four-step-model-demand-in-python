{
 "cells": [
  {
   "cell_type": "markdown",
   "source": [
    "# Ejecución del modelo de demanda GDL"
   ],
   "metadata": {
    "collapsed": false
   }
  },
  {
   "cell_type": "markdown",
   "source": [
    "### 1) Generación y atracción de viajes"
   ],
   "metadata": {
    "collapsed": false
   }
  },
  {
   "cell_type": "code",
   "execution_count": 1,
   "outputs": [],
   "source": [
    "#NOTA: En este caso solo haremos una lectura y visualización de los viajes generados ya que ya se cuenta\n",
    "# con la matriz de generación y atración de viajes\n",
    "\n",
    "import geopandas as gpd\n",
    "import pandas as pd"
   ],
   "metadata": {
    "collapsed": false,
    "pycharm": {
     "name": "#%%\n"
    }
   }
  },
  {
   "cell_type": "code",
   "execution_count": 1,
   "outputs": [
    {
     "name": "stdout",
     "output_type": "stream",
     "text": [
      "SQLalchemy is not installed. No support for SQL output.\n"
     ]
    }
   ],
   "source": [
    "import sys # for automation and parallelization: set manual to false when run by a launcher\n",
    "manual, scenario = (True, 'base') if 'ipykernel' in sys.argv[0] else (False, sys.argv[1])\n",
    "\n",
    "sys.path.insert(0, r'C:/Users/orlan/Documents/UPC/PhD/Papers/Paper 4/Quetzal Dev/quetzal-master')\n",
    "\n",
    "from quetzal.model import stepmodel\n",
    "import numpy as np"
   ],
   "metadata": {
    "collapsed": false,
    "pycharm": {
     "name": "#%%\n"
    }
   }
  },
  {
   "cell_type": "code",
   "execution_count": 3,
   "outputs": [],
   "source": [
    "training_folder ='C:/Users/orlan/Documents/UPC/PhD/Papers/Paper 4/Modelo de Demanda GDL/Modelo GDL basado en paris/'"
   ],
   "metadata": {
    "collapsed": false,
    "pycharm": {
     "name": "#%%\n"
    }
   }
  },
  {
   "cell_type": "markdown",
   "source": [
    "##### 1.1) Lectura del SM"
   ],
   "metadata": {
    "collapsed": false
   }
  },
  {
   "cell_type": "code",
   "execution_count": 4,
   "outputs": [
    {
     "name": "stderr",
     "output_type": "stream",
     "text": [
      "zones: 100%|██████████| 29/29 [00:17<00:00,  1.63it/s]                    \n"
     ]
    }
   ],
   "source": [
    "sm = stepmodel.read_zip(training_folder + 'model/base/aon_pathfinder.zip'.format(scen=scenario))"
   ],
   "metadata": {
    "collapsed": false,
    "pycharm": {
     "name": "#%%\n"
    }
   }
  },
  {
   "cell_type": "markdown",
   "source": [
    "##### 1.2) Lecture de la zonificación de viajes atraidos y generados"
   ],
   "metadata": {
    "collapsed": false
   }
  },
  {
   "cell_type": "code",
   "execution_count": 5,
   "outputs": [
    {
     "data": {
      "text/plain": "['Origen',\n 'Destino',\n 'Caminando',\n 'Transporte Colectivo',\n 'Taxi',\n 'Bicicleta',\n 'Motocicleta',\n 'Auto (Conductor)',\n 'Auto (Pasajero)',\n 'Camioneta (Conductor)',\n 'Camioneta (Pasajero)',\n 'Otros',\n 'Total']"
     },
     "execution_count": 5,
     "metadata": {},
     "output_type": "execute_result"
    }
   ],
   "source": [
    "Matriz_OD = pd.read_csv('C:/Users/orlan/Documents/UPC/PhD/Papers/Paper 4/Modelo de Demanda GDL/Data/inputs/data/OD2007.csv', encoding='latin', sep=';')\n",
    "## Renombramiento de columnas\n",
    "Matriz_OD.rename(columns={'ï»¿Origen': 'Origen'}, inplace=True)\n",
    "\n",
    "# Visualizacion de los nombres de las columas\n",
    "list(Matriz_OD.columns)\n"
   ],
   "metadata": {
    "collapsed": false,
    "pycharm": {
     "name": "#%%\n"
    }
   }
  },
  {
   "cell_type": "markdown",
   "source": [
    "##### Viajes totales del DF tomando como referencia que estos datos corresponden al estudio de 2014"
   ],
   "metadata": {
    "collapsed": false
   }
  },
  {
   "cell_type": "code",
   "execution_count": null,
   "outputs": [],
   "source": [
    "Matriz_OD.Total.sum()"
   ],
   "metadata": {
    "collapsed": false,
    "pycharm": {
     "name": "#%%\n"
    }
   }
  },
  {
   "cell_type": "markdown",
   "source": [
    "##### Población total al momento del estudio (2014)"
   ],
   "metadata": {
    "collapsed": false
   }
  },
  {
   "cell_type": "code",
   "execution_count": null,
   "outputs": [],
   "source": [
    "POB2014=4636514\n",
    "print(POB2014)\n"
   ],
   "metadata": {
    "collapsed": false,
    "pycharm": {
     "name": "#%%\n"
    }
   }
  },
  {
   "cell_type": "markdown",
   "source": [
    "##### Viajes al día  por persona"
   ],
   "metadata": {
    "collapsed": false
   }
  },
  {
   "cell_type": "code",
   "execution_count": null,
   "outputs": [],
   "source": [
    "Viajes_per_capita= Matriz_OD.Total.sum() / POB2014\n",
    "print(Viajes_per_capita)\n"
   ],
   "metadata": {
    "collapsed": false,
    "pycharm": {
     "name": "#%%\n"
    }
   }
  },
  {
   "cell_type": "markdown",
   "source": [
    "##### Agrupamiento de total de viajes generados por zona"
   ],
   "metadata": {
    "collapsed": false
   }
  },
  {
   "cell_type": "code",
   "execution_count": null,
   "outputs": [],
   "source": [
    "Generados = Matriz_OD.groupby(['Origen'])['Total'].sum()\n",
    "Generados= Generados.to_frame() # Lo convertimos a DF porque lo genera orignalmente como serie\n",
    "Generados['ID_2'] = Generados.index # Le damos la columna\n",
    "Generados.head(4)"
   ],
   "metadata": {
    "collapsed": false,
    "pycharm": {
     "name": "#%%\n"
    }
   }
  },
  {
   "cell_type": "markdown",
   "source": [
    "##### Agrupamiento del total de viajes atraidos por zona"
   ],
   "metadata": {
    "collapsed": false
   }
  },
  {
   "cell_type": "code",
   "execution_count": null,
   "outputs": [],
   "source": [
    "Atraidos = Matriz_OD.groupby(['Destino'])['Total'].sum()\n",
    "Atraidos= Atraidos.to_frame() # Lo convertimos a DF porque lo genera orignalmente como serie\n",
    "Atraidos['ID_2'] = Atraidos.index # Le damos la columna\n",
    "Atraidos.head(4)\n"
   ],
   "metadata": {
    "collapsed": false,
    "pycharm": {
     "name": "#%%\n"
    }
   }
  },
  {
   "cell_type": "markdown",
   "source": [
    "##### Lectura del layer de Zonificación\n"
   ],
   "metadata": {
    "collapsed": false
   }
  },
  {
   "cell_type": "code",
   "execution_count": null,
   "outputs": [],
   "source": [
    "zones = gpd.read_file(r'C:/Users/orlan/Documents/UPC/PhD/Papers/Paper 4/Modelo de Demanda GDL/Modelo GDL basado en paris/inputs/zones/Zonificacion.shp')"
   ],
   "metadata": {
    "collapsed": false,
    "pycharm": {
     "name": "#%%\n"
    }
   }
  },
  {
   "cell_type": "markdown",
   "source": [
    "##### Vinculación de viajes totales atraidos y generados con el GEO DF de la zonificación de estudio"
   ],
   "metadata": {
    "collapsed": false
   }
  },
  {
   "cell_type": "code",
   "execution_count": null,
   "outputs": [],
   "source": [
    "# Merging DF con un GEODF de los viajes generados\n",
    "zones = zones.merge(Generados, on='ID_2') # el primer elemento es el espacial\n",
    "\n",
    "#Renombre\n",
    "zones.rename(columns={'Total': 'Total_Generados'}, inplace=True)\n",
    "\n",
    "### NOTA: EL merge lo hace bien pero no coiciden del todo los datos de generación con los que tiene\n",
    "#el archivo de zonificacion (zonas)     VERLO CON EL IMEPLAN\n",
    "#Info: https://geopandas.org/docs/user_guide/mergingdata.html"
   ],
   "metadata": {
    "collapsed": false,
    "pycharm": {
     "name": "#%%\n"
    }
   }
  },
  {
   "cell_type": "code",
   "execution_count": null,
   "outputs": [],
   "source": [
    "# Merge con el GEO DATA FRAME con el DF cde los viajes atraidos\n",
    "zones = zones.merge(Atraidos, on='ID_2') # el primer elemento es el espacial\n",
    "\n",
    "#Renombre\n",
    "zones.rename(columns={'Total': 'Total_Atraidos'}, inplace=True)"
   ],
   "metadata": {
    "collapsed": false,
    "pycharm": {
     "name": "#%%\n"
    }
   }
  },
  {
   "cell_type": "markdown",
   "source": [
    "##### Eliminación de columnas inecesarias"
   ],
   "metadata": {
    "collapsed": false
   }
  },
  {
   "cell_type": "code",
   "execution_count": null,
   "outputs": [],
   "source": [
    "del zones [\"POB2005\"]\n",
    "del zones [\"POB2000\"]\n",
    "del zones [\"VIAJES_AUT\"]\n",
    "del zones [\"VIAJES_TP\"]\n",
    "del zones [\"Viaje_tot\"]\n",
    "del zones [\"trip_perso\"]"
   ],
   "metadata": {
    "collapsed": false,
    "pycharm": {
     "name": "#%%\n"
    }
   }
  },
  {
   "cell_type": "markdown",
   "source": [
    "##### Visualiuzación de viajes generados por zona"
   ],
   "metadata": {
    "collapsed": false
   }
  },
  {
   "cell_type": "code",
   "execution_count": null,
   "outputs": [],
   "source": [
    "import matplotlib.pyplot as plt\n",
    "fig, ax = plt.subplots(1, 1)\n",
    "zones.plot(column= 'Total_Generados',ax=ax, legend=True)"
   ],
   "metadata": {
    "collapsed": false,
    "pycharm": {
     "name": "#%%\n"
    }
   }
  },
  {
   "cell_type": "markdown",
   "source": [
    "##### Visualización de viajes atraidos por zona"
   ],
   "metadata": {
    "collapsed": false
   }
  },
  {
   "cell_type": "code",
   "execution_count": null,
   "outputs": [],
   "source": [
    "fig, ax = plt.subplots(1, 1)\n",
    "zones.plot(column= 'Total_Atraidos',ax=ax, legend=True)\n"
   ],
   "metadata": {
    "collapsed": false,
    "pycharm": {
     "name": "#%%\n"
    }
   }
  },
  {
   "cell_type": "markdown",
   "source": [
    "##### Exportación de los DF de viajes atraidos y generados\n"
   ],
   "metadata": {
    "collapsed": false
   }
  },
  {
   "cell_type": "code",
   "execution_count": null,
   "outputs": [],
   "source": [
    "##### Union de ambos DF en uno solo\n",
    "Viajes_totales = pd.merge(Generados,Atraidos, on=\"ID_2\")\n",
    "\n",
    "# Cambio de nombre de las columnas\n",
    "Viajes_totales = Viajes_totales.rename(columns={'Total_x': 'Generados', 'Total_y': 'Atraidos'})\n"
   ],
   "metadata": {
    "collapsed": false,
    "pycharm": {
     "name": "#%%\n"
    }
   }
  },
  {
   "cell_type": "code",
   "execution_count": null,
   "outputs": [],
   "source": [
    "print(Viajes_totales)\n"
   ],
   "metadata": {
    "collapsed": false,
    "pycharm": {
     "name": "#%%\n"
    }
   }
  },
  {
   "cell_type": "code",
   "execution_count": null,
   "outputs": [],
   "source": [
    "Viajes_totales.to_csv(r'C:/Users/orlan/Desktop/Resultados preliminales del modelo de demanda\\Viajes totales.csv', index = False)\n"
   ],
   "metadata": {
    "collapsed": false,
    "pycharm": {
     "name": "#%%\n"
    }
   }
  },
  {
   "cell_type": "code",
   "execution_count": null,
   "outputs": [],
   "source": [],
   "metadata": {
    "collapsed": false,
    "pycharm": {
     "name": "#%%\n"
    }
   }
  },
  {
   "cell_type": "markdown",
   "source": [
    "### 2) Distribución\n",
    "###### Solo se tomara los viajes generados y atraidos en hora punta"
   ],
   "metadata": {
    "collapsed": false
   }
  },
  {
   "cell_type": "code",
   "execution_count": null,
   "outputs": [],
   "source": [
    "### RECORDAR, leer el SM que ahora contiene :\n",
    "# zonificacion (contiene goemetria, ID de poligonos, viajes generados y atriados, pobacion)\n",
    "# road_links y road_nodos viales\n",
    "# links y nodes de TP ya vinculados a las vialidades\n",
    "# lines\n",
    "# car_los que son los tiempos de viaje en auto\n",
    "# pt_los que son los tiempos de viaje en TP"
   ],
   "metadata": {
    "collapsed": false,
    "pycharm": {
     "name": "#%%\n"
    }
   }
  },
  {
   "cell_type": "markdown",
   "source": [
    "##### El modelo de distribución se basa en método gravitatorio. Recordar que el modelo gravitatorio toma como referencia la matriz de impedancia que está constituida normalmente por el tiempo o el costo de cada viaje"
   ],
   "metadata": {
    "collapsed": false
   }
  },
  {
   "cell_type": "code",
   "execution_count": 1,
   "outputs": [
    {
     "name": "stdout",
     "output_type": "stream",
     "text": [
      "SQLalchemy is not installed. No support for SQL output.\n"
     ]
    }
   ],
   "source": [
    "import sys # for automation and parallelization: set manual to false when run by a launcher\n",
    "manual, scenario = (True, 'base') if 'ipykernel' in sys.argv[0] else (False, sys.argv[1])\n",
    "\n",
    "sys.path.insert(0, r'C:/Users/orlan/Documents/UPC/PhD/Papers/Paper 4/Quetzal Dev/quetzal-master')\n",
    "\n",
    "from quetzal.model import stepmodel\n",
    "import numpy as np\n",
    "import pandas as pd\n",
    "\n",
    "training_folder ='C:/Users/orlan/Documents/UPC/PhD/Papers/Paper 4/Modelo de Demanda GDL/Modelo GDL basado en paris/'"
   ],
   "metadata": {
    "collapsed": false,
    "pycharm": {
     "name": "#%%\n"
    }
   }
  },
  {
   "cell_type": "code",
   "execution_count": 2,
   "outputs": [
    {
     "name": "stderr",
     "output_type": "stream",
     "text": [
      "zones: 100%|██████████| 29/29 [00:19<00:00,  1.51it/s]                    \n"
     ]
    }
   ],
   "source": [
    "sm = stepmodel.read_zip(training_folder + 'model/base/aon_pathfinder.zip'.format(scen=scenario))"
   ],
   "metadata": {
    "collapsed": false,
    "pycharm": {
     "name": "#%%\n"
    }
   }
  },
  {
   "cell_type": "code",
   "execution_count": 3,
   "outputs": [],
   "source": [
    "##### Generar columnas igual al indice que  es lo que contiene el nombre de las zonas\n",
    "sm.zones['index'] = sm.zones.index"
   ],
   "metadata": {
    "collapsed": false,
    "pycharm": {
     "name": "#%%\n"
    }
   }
  },
  {
   "cell_type": "code",
   "execution_count": null,
   "outputs": [],
   "source": [
    "# Exportacion\n",
    "sm.zones.to_file('C:/Users/orlan/Documents/UPC/PhD/Redación Tesis/Resultados/zones.shp', driver='ESRI Shapefile')\n"
   ],
   "metadata": {
    "collapsed": false,
    "pycharm": {
     "name": "#%%\n"
    }
   }
  },
  {
   "cell_type": "markdown",
   "source": [
    "##### Tiempos medios de desplazamiento en auto"
   ],
   "metadata": {
    "collapsed": false
   }
  },
  {
   "cell_type": "code",
   "execution_count": 4,
   "outputs": [
    {
     "data": {
      "text/plain": "37.58710210745968"
     },
     "execution_count": 4,
     "metadata": {},
     "output_type": "execute_result"
    }
   ],
   "source": [
    "sm.car_los[\"time\"].mean() /60   # /60 para pasarlo a minutos"
   ],
   "metadata": {
    "collapsed": false,
    "pycharm": {
     "name": "#%%\n"
    }
   }
  },
  {
   "cell_type": "markdown",
   "source": [
    "##### Tiempos medios de desplazamiento en Transporte público"
   ],
   "metadata": {
    "collapsed": false
   }
  },
  {
   "cell_type": "code",
   "execution_count": 5,
   "outputs": [
    {
     "data": {
      "text/plain": "57.090646312835155"
     },
     "execution_count": 5,
     "metadata": {},
     "output_type": "execute_result"
    }
   ],
   "source": [
    "sm.pt_los [\"gtime\"].mean()/60  # Da 57 minutos"
   ],
   "metadata": {
    "collapsed": false,
    "pycharm": {
     "name": "#%%\n"
    }
   }
  },
  {
   "cell_type": "markdown",
   "source": [
    "##### Media de transferencia en Transporte público"
   ],
   "metadata": {
    "collapsed": false
   }
  },
  {
   "cell_type": "code",
   "execution_count": 6,
   "outputs": [
    {
     "data": {
      "text/plain": "7.904207989126973"
     },
     "execution_count": 6,
     "metadata": {},
     "output_type": "execute_result"
    }
   ],
   "source": [
    "sm.pt_los [\"ntransfers\"].mean() # esto realmente esta mal, o es irrealista"
   ],
   "metadata": {
    "collapsed": false,
    "pycharm": {
     "name": "#%%\n"
    }
   }
  },
  {
   "cell_type": "markdown",
   "source": [
    "##### Visualización de viajes TOTALES generados y atraidos a lo largo del día"
   ],
   "metadata": {
    "collapsed": false,
    "pycharm": {
     "name": "#%% md\n"
    }
   }
  },
  {
   "cell_type": "code",
   "execution_count": 7,
   "outputs": [
    {
     "data": {
      "text/plain": "9904182"
     },
     "execution_count": 7,
     "metadata": {},
     "output_type": "execute_result"
    }
   ],
   "source": [
    "sm.zones.Total_Atraidos.sum()  # ATRAIDOS, 9 millones"
   ],
   "metadata": {
    "collapsed": false,
    "pycharm": {
     "name": "#%%\n"
    }
   }
  },
  {
   "cell_type": "code",
   "execution_count": 8,
   "outputs": [
    {
     "data": {
      "text/plain": "9903180"
     },
     "execution_count": 8,
     "metadata": {},
     "output_type": "execute_result"
    }
   ],
   "source": [
    "sm.zones.Total_Generados.sum()   # GENERADOS, 9 millones"
   ],
   "metadata": {
    "collapsed": false,
    "pycharm": {
     "name": "#%%\n"
    }
   }
  },
  {
   "cell_type": "markdown",
   "source": [
    "##### Modificacion para viajes en hora pico (se toma el 10 % de los viajes totales)"
   ],
   "metadata": {
    "collapsed": false,
    "pycharm": {
     "name": "#%% md\n"
    }
   }
  },
  {
   "cell_type": "code",
   "execution_count": 9,
   "outputs": [],
   "source": [
    "### AQUI para seguir con la misma nomenclatura del codigo se hará lo siguiente, se crea 2 nuevas columnas emissions y atraction (generados y atraidos)\n",
    "sm.zones['emission'] =  sm.zones['Total_Generados'].astype(int) / 10  # POR ESO esta division, para representar la hora pico\n",
    "sm.zones['attraction'] =  sm.zones['Total_Atraidos'].astype(int) / 10\n"
   ],
   "metadata": {
    "collapsed": false,
    "pycharm": {
     "name": "#%%\n"
    }
   }
  },
  {
   "cell_type": "markdown",
   "source": [
    "##### 2.2) Viajes totales en auto"
   ],
   "metadata": {
    "collapsed": false
   }
  },
  {
   "cell_type": "code",
   "execution_count": 10,
   "outputs": [],
   "source": [
    "### Primero se asigna un grado de motorización general\n",
    "motor_rate = 0.35  # 35 % de grado de motorizacion\n",
    "car = sm.copy()  # se hace una copia del sm que contiene el TOTAL de viajes generados y atraidos en hora pico\n",
    "\n",
    "# IMPORTANTE: Aqui se hace esta asumsión que influirá mucho en la distribución modal,\n",
    "# se integra el grado de motorización y se asumne que las personas que tienen auto lo van a utilizar de manera mucho más frecuente que las que no.\n",
    "# Esto se puede dejar con este método, o se puede integrar el grado de motorización por zona, o no incluir ningun grado de motorización y seguir con el modelo de los 4 pasos de manera clásica"
   ],
   "metadata": {
    "collapsed": false,
    "pycharm": {
     "name": "#%%\n"
    }
   }
  },
  {
   "cell_type": "markdown",
   "source": [
    "##### Se multiplica el total de viajes por zona por el grado de motorizacion que se tiene"
   ],
   "metadata": {
    "collapsed": false
   }
  },
  {
   "cell_type": "code",
   "execution_count": 11,
   "outputs": [],
   "source": [
    "car.zones['emission'] *= motor_rate"
   ],
   "metadata": {
    "collapsed": false,
    "pycharm": {
     "name": "#%%\n"
    }
   }
  },
  {
   "cell_type": "markdown",
   "source": [
    "##### 2.3)  Matriz de impedancia en autos"
   ],
   "metadata": {
    "collapsed": false
   }
  },
  {
   "cell_type": "code",
   "execution_count": 12,
   "outputs": [],
   "source": [
    "## IMPORTANTE: aqui se extrae la matriz de tiempos de desplazamiento de zona a zona. Estos datos ya  los contiene el SM  \"car\"\n",
    "# dentro del DF de \"car_los\", al final esta es la matriz de  impedancia (generadas en el codigo \"all_or_nothing_patfinder\", el DF de car_los)\n",
    "# REVISAR: En donde se generó la matriz de \"car_los\"\n",
    "\n",
    "imp_matrix_car = car.car_los[\n",
    "    ['origin', 'destination', 'time']\n",
    "].set_index(['origin','destination']).unstack()\n",
    "\n",
    "imp_matrix_car = imp_matrix_car.replace(0, 120)\n"
   ],
   "metadata": {
    "collapsed": false,
    "pycharm": {
     "name": "#%%\n"
    }
   }
  },
  {
   "cell_type": "markdown",
   "source": [
    "##### 2.4) Ejecución del modelo gravitatorio"
   ],
   "metadata": {
    "collapsed": false
   }
  },
  {
   "cell_type": "markdown",
   "source": [
    "##### Ejecución de la función de distribución de volumenes de viajes (aplicada a autos)\n",
    "###### La funcion step_distribution es la que contiene el modelo gravitatorio, esta funcion toma como input la matriz de impedancia (matriz de tiempos de viaje OD) y genera la distribución de volumenes de viaje. Las unidades de volumes son PERSONAS"
   ],
   "metadata": {
    "collapsed": false
   }
  },
  {
   "cell_type": "markdown",
   "source": [
    "##### Distribución de viaje en auto\n"
   ],
   "metadata": {
    "collapsed": false
   }
  },
  {
   "cell_type": "code",
   "execution_count": 13,
   "outputs": [],
   "source": [
    "### Ditribucion de viajes basado en modelo gravitatorio\n",
    "car.step_distribution(deterrence_matrix=imp_matrix_car)\n",
    "\n",
    "## Se crea el DF \"volumes\""
   ],
   "metadata": {
    "collapsed": false,
    "pycharm": {
     "name": "#%%\n"
    }
   }
  },
  {
   "cell_type": "markdown",
   "source": [
    "##### Visualización de la distribución de volumenes de viaje en auto"
   ],
   "metadata": {
    "collapsed": false
   }
  },
  {
   "cell_type": "code",
   "execution_count": 14,
   "outputs": [
    {
     "data": {
      "text/plain": "          origin destination    volume\n0         zone_0      zone_0  0.004131\n1         zone_0      zone_1  0.002615\n2         zone_0      zone_2  0.242071\n3         zone_0      zone_3  0.032596\n4         zone_0      zone_4  0.061390\n...          ...         ...       ...\n188351  zone_433    zone_429  0.345618\n188352  zone_433    zone_430  0.296179\n188353  zone_433    zone_431  0.223152\n188354  zone_433    zone_432  0.258303\n188355  zone_433    zone_433  0.082709\n\n[188356 rows x 3 columns]",
      "text/html": "<div>\n<style scoped>\n    .dataframe tbody tr th:only-of-type {\n        vertical-align: middle;\n    }\n\n    .dataframe tbody tr th {\n        vertical-align: top;\n    }\n\n    .dataframe thead th {\n        text-align: right;\n    }\n</style>\n<table border=\"1\" class=\"dataframe\">\n  <thead>\n    <tr style=\"text-align: right;\">\n      <th></th>\n      <th>origin</th>\n      <th>destination</th>\n      <th>volume</th>\n    </tr>\n  </thead>\n  <tbody>\n    <tr>\n      <th>0</th>\n      <td>zone_0</td>\n      <td>zone_0</td>\n      <td>0.004131</td>\n    </tr>\n    <tr>\n      <th>1</th>\n      <td>zone_0</td>\n      <td>zone_1</td>\n      <td>0.002615</td>\n    </tr>\n    <tr>\n      <th>2</th>\n      <td>zone_0</td>\n      <td>zone_2</td>\n      <td>0.242071</td>\n    </tr>\n    <tr>\n      <th>3</th>\n      <td>zone_0</td>\n      <td>zone_3</td>\n      <td>0.032596</td>\n    </tr>\n    <tr>\n      <th>4</th>\n      <td>zone_0</td>\n      <td>zone_4</td>\n      <td>0.061390</td>\n    </tr>\n    <tr>\n      <th>...</th>\n      <td>...</td>\n      <td>...</td>\n      <td>...</td>\n    </tr>\n    <tr>\n      <th>188351</th>\n      <td>zone_433</td>\n      <td>zone_429</td>\n      <td>0.345618</td>\n    </tr>\n    <tr>\n      <th>188352</th>\n      <td>zone_433</td>\n      <td>zone_430</td>\n      <td>0.296179</td>\n    </tr>\n    <tr>\n      <th>188353</th>\n      <td>zone_433</td>\n      <td>zone_431</td>\n      <td>0.223152</td>\n    </tr>\n    <tr>\n      <th>188354</th>\n      <td>zone_433</td>\n      <td>zone_432</td>\n      <td>0.258303</td>\n    </tr>\n    <tr>\n      <th>188355</th>\n      <td>zone_433</td>\n      <td>zone_433</td>\n      <td>0.082709</td>\n    </tr>\n  </tbody>\n</table>\n<p>188356 rows × 3 columns</p>\n</div>"
     },
     "execution_count": 14,
     "metadata": {},
     "output_type": "execute_result"
    }
   ],
   "source": [
    "car.volumes"
   ],
   "metadata": {
    "collapsed": false,
    "pycharm": {
     "name": "#%%\n"
    }
   }
  },
  {
   "cell_type": "markdown",
   "source": [
    "##### Viajes totales en auto en hora pico"
   ],
   "metadata": {
    "collapsed": false
   }
  },
  {
   "cell_type": "code",
   "execution_count": 15,
   "outputs": [
    {
     "data": {
      "text/plain": "346611.3"
     },
     "execution_count": 15,
     "metadata": {},
     "output_type": "execute_result"
    }
   ],
   "source": [
    "car.volumes.volume.sum()"
   ],
   "metadata": {
    "collapsed": false,
    "pycharm": {
     "name": "#%%\n"
    }
   }
  },
  {
   "cell_type": "markdown",
   "source": [
    "#####  Viajes totales en TP"
   ],
   "metadata": {
    "collapsed": false
   }
  },
  {
   "cell_type": "code",
   "execution_count": 16,
   "outputs": [],
   "source": [
    "## En este caso se simplifica y se dice que será la diferencia al % de autos ya establecido (es decir que el resto de los viaje que no se hace en auto se hacen en TP)\n",
    "pt = sm.copy()\n",
    "pt.zones['emission'] *= (1-motor_rate)"
   ],
   "metadata": {
    "collapsed": false,
    "pycharm": {
     "name": "#%%\n"
    }
   }
  },
  {
   "cell_type": "markdown",
   "source": [
    "##### 2.5) Matriz de impedancia en TP"
   ],
   "metadata": {
    "collapsed": false
   }
  },
  {
   "cell_type": "code",
   "execution_count": 17,
   "outputs": [],
   "source": [
    "imp_matrix_pt = pt.pt_los[\n",
    "    ['origin', 'destination', 'gtime']\n",
    "].set_index(['origin','destination']).unstack()\n",
    "imp_matrix_pt = imp_matrix_pt.replace(0, 120)\n"
   ],
   "metadata": {
    "collapsed": false,
    "pycharm": {
     "name": "#%%\n"
    }
   }
  },
  {
   "cell_type": "markdown",
   "source": [
    "##### Ejecución de la función de distribución de volumenes de viajes (aplicada a TP)"
   ],
   "metadata": {
    "collapsed": false
   }
  },
  {
   "cell_type": "code",
   "execution_count": 18,
   "outputs": [],
   "source": [
    "pt.step_distribution(deterrence_matrix=imp_matrix_pt)"
   ],
   "metadata": {
    "collapsed": false,
    "pycharm": {
     "name": "#%%\n"
    }
   }
  },
  {
   "cell_type": "markdown",
   "source": [
    "##### Visualización de la distribución de volumenes de viaje para TP\n"
   ],
   "metadata": {
    "collapsed": false
   }
  },
  {
   "cell_type": "code",
   "execution_count": 19,
   "outputs": [
    {
     "data": {
      "text/plain": "          origin destination    volume\n0         zone_0      zone_0  0.005632\n1         zone_0      zone_1  0.009078\n2         zone_0      zone_2  0.401442\n3         zone_0      zone_3  0.073305\n4         zone_0      zone_4  0.143701\n...          ...         ...       ...\n188351  zone_433    zone_429  1.183654\n188352  zone_433    zone_430  0.756884\n188353  zone_433    zone_431  0.784890\n188354  zone_433    zone_432  0.597552\n188355  zone_433    zone_433  0.110315\n\n[188356 rows x 3 columns]",
      "text/html": "<div>\n<style scoped>\n    .dataframe tbody tr th:only-of-type {\n        vertical-align: middle;\n    }\n\n    .dataframe tbody tr th {\n        vertical-align: top;\n    }\n\n    .dataframe thead th {\n        text-align: right;\n    }\n</style>\n<table border=\"1\" class=\"dataframe\">\n  <thead>\n    <tr style=\"text-align: right;\">\n      <th></th>\n      <th>origin</th>\n      <th>destination</th>\n      <th>volume</th>\n    </tr>\n  </thead>\n  <tbody>\n    <tr>\n      <th>0</th>\n      <td>zone_0</td>\n      <td>zone_0</td>\n      <td>0.005632</td>\n    </tr>\n    <tr>\n      <th>1</th>\n      <td>zone_0</td>\n      <td>zone_1</td>\n      <td>0.009078</td>\n    </tr>\n    <tr>\n      <th>2</th>\n      <td>zone_0</td>\n      <td>zone_2</td>\n      <td>0.401442</td>\n    </tr>\n    <tr>\n      <th>3</th>\n      <td>zone_0</td>\n      <td>zone_3</td>\n      <td>0.073305</td>\n    </tr>\n    <tr>\n      <th>4</th>\n      <td>zone_0</td>\n      <td>zone_4</td>\n      <td>0.143701</td>\n    </tr>\n    <tr>\n      <th>...</th>\n      <td>...</td>\n      <td>...</td>\n      <td>...</td>\n    </tr>\n    <tr>\n      <th>188351</th>\n      <td>zone_433</td>\n      <td>zone_429</td>\n      <td>1.183654</td>\n    </tr>\n    <tr>\n      <th>188352</th>\n      <td>zone_433</td>\n      <td>zone_430</td>\n      <td>0.756884</td>\n    </tr>\n    <tr>\n      <th>188353</th>\n      <td>zone_433</td>\n      <td>zone_431</td>\n      <td>0.784890</td>\n    </tr>\n    <tr>\n      <th>188354</th>\n      <td>zone_433</td>\n      <td>zone_432</td>\n      <td>0.597552</td>\n    </tr>\n    <tr>\n      <th>188355</th>\n      <td>zone_433</td>\n      <td>zone_433</td>\n      <td>0.110315</td>\n    </tr>\n  </tbody>\n</table>\n<p>188356 rows × 3 columns</p>\n</div>"
     },
     "execution_count": 19,
     "metadata": {},
     "output_type": "execute_result"
    }
   ],
   "source": [
    "pt.volumes"
   ],
   "metadata": {
    "collapsed": false,
    "pycharm": {
     "name": "#%%\n"
    }
   }
  },
  {
   "cell_type": "markdown",
   "source": [
    "##### Total de viajes en TP en hora pico"
   ],
   "metadata": {
    "collapsed": false
   }
  },
  {
   "cell_type": "code",
   "execution_count": 20,
   "outputs": [
    {
     "data": {
      "text/plain": "643706.7000000001"
     },
     "execution_count": 20,
     "metadata": {},
     "output_type": "execute_result"
    }
   ],
   "source": [
    "pt.volumes.volume.sum()"
   ],
   "metadata": {
    "collapsed": false,
    "pycharm": {
     "name": "#%%\n"
    }
   }
  },
  {
   "cell_type": "markdown",
   "source": [
    "##### 2.6) Combinación de los DF en un mismo SM"
   ],
   "metadata": {
    "collapsed": false
   }
  },
  {
   "cell_type": "code",
   "execution_count": 21,
   "outputs": [],
   "source": [
    "sm.volumes = pd.merge(\n",
    "    car.volumes,\n",
    "    pt.volumes,\n",
    "    on=['origin', 'destination'],\n",
    "    suffixes=[ '_car_owner', '_pt_captive']\n",
    ").rename(columns={'volume_car_owner': 'car_owner', 'volume_pt_captive': 'pt_captive'})\n"
   ],
   "metadata": {
    "collapsed": false,
    "pycharm": {
     "name": "#%%\n"
    }
   }
  },
  {
   "cell_type": "code",
   "execution_count": 22,
   "outputs": [],
   "source": [
    "###  Aqui sumare las de auto y TP para crear una sola columna de total de viajes por zona\n",
    "\n",
    "sm.volumes[\"trips\"] = sm.volumes.car_owner + sm.volumes.pt_captive"
   ],
   "metadata": {
    "collapsed": false,
    "pycharm": {
     "name": "#%%\n"
    }
   }
  },
  {
   "cell_type": "markdown",
   "source": [
    "##### Visualización de volumenes"
   ],
   "metadata": {
    "collapsed": false
   }
  },
  {
   "cell_type": "code",
   "execution_count": 23,
   "outputs": [
    {
     "data": {
      "text/plain": "          origin destination  car_owner  pt_captive     trips\n0         zone_0      zone_0   0.004131    0.005632  0.009762\n1         zone_0      zone_1   0.002615    0.009078  0.011693\n2         zone_0      zone_2   0.242071    0.401442  0.643513\n3         zone_0      zone_3   0.032596    0.073305  0.105902\n4         zone_0      zone_4   0.061390    0.143701  0.205091\n...          ...         ...        ...         ...       ...\n188351  zone_433    zone_429   0.345618    1.183654  1.529272\n188352  zone_433    zone_430   0.296179    0.756884  1.053063\n188353  zone_433    zone_431   0.223152    0.784890  1.008042\n188354  zone_433    zone_432   0.258303    0.597552  0.855855\n188355  zone_433    zone_433   0.082709    0.110315  0.193024\n\n[188356 rows x 5 columns]",
      "text/html": "<div>\n<style scoped>\n    .dataframe tbody tr th:only-of-type {\n        vertical-align: middle;\n    }\n\n    .dataframe tbody tr th {\n        vertical-align: top;\n    }\n\n    .dataframe thead th {\n        text-align: right;\n    }\n</style>\n<table border=\"1\" class=\"dataframe\">\n  <thead>\n    <tr style=\"text-align: right;\">\n      <th></th>\n      <th>origin</th>\n      <th>destination</th>\n      <th>car_owner</th>\n      <th>pt_captive</th>\n      <th>trips</th>\n    </tr>\n  </thead>\n  <tbody>\n    <tr>\n      <th>0</th>\n      <td>zone_0</td>\n      <td>zone_0</td>\n      <td>0.004131</td>\n      <td>0.005632</td>\n      <td>0.009762</td>\n    </tr>\n    <tr>\n      <th>1</th>\n      <td>zone_0</td>\n      <td>zone_1</td>\n      <td>0.002615</td>\n      <td>0.009078</td>\n      <td>0.011693</td>\n    </tr>\n    <tr>\n      <th>2</th>\n      <td>zone_0</td>\n      <td>zone_2</td>\n      <td>0.242071</td>\n      <td>0.401442</td>\n      <td>0.643513</td>\n    </tr>\n    <tr>\n      <th>3</th>\n      <td>zone_0</td>\n      <td>zone_3</td>\n      <td>0.032596</td>\n      <td>0.073305</td>\n      <td>0.105902</td>\n    </tr>\n    <tr>\n      <th>4</th>\n      <td>zone_0</td>\n      <td>zone_4</td>\n      <td>0.061390</td>\n      <td>0.143701</td>\n      <td>0.205091</td>\n    </tr>\n    <tr>\n      <th>...</th>\n      <td>...</td>\n      <td>...</td>\n      <td>...</td>\n      <td>...</td>\n      <td>...</td>\n    </tr>\n    <tr>\n      <th>188351</th>\n      <td>zone_433</td>\n      <td>zone_429</td>\n      <td>0.345618</td>\n      <td>1.183654</td>\n      <td>1.529272</td>\n    </tr>\n    <tr>\n      <th>188352</th>\n      <td>zone_433</td>\n      <td>zone_430</td>\n      <td>0.296179</td>\n      <td>0.756884</td>\n      <td>1.053063</td>\n    </tr>\n    <tr>\n      <th>188353</th>\n      <td>zone_433</td>\n      <td>zone_431</td>\n      <td>0.223152</td>\n      <td>0.784890</td>\n      <td>1.008042</td>\n    </tr>\n    <tr>\n      <th>188354</th>\n      <td>zone_433</td>\n      <td>zone_432</td>\n      <td>0.258303</td>\n      <td>0.597552</td>\n      <td>0.855855</td>\n    </tr>\n    <tr>\n      <th>188355</th>\n      <td>zone_433</td>\n      <td>zone_433</td>\n      <td>0.082709</td>\n      <td>0.110315</td>\n      <td>0.193024</td>\n    </tr>\n  </tbody>\n</table>\n<p>188356 rows × 5 columns</p>\n</div>"
     },
     "execution_count": 23,
     "metadata": {},
     "output_type": "execute_result"
    }
   ],
   "source": [
    "sm.volumes"
   ],
   "metadata": {
    "collapsed": false,
    "pycharm": {
     "name": "#%%\n"
    }
   }
  },
  {
   "cell_type": "markdown",
   "source": [
    "##### Sumatoria de viajes totales del DF de volumes\n"
   ],
   "metadata": {
    "collapsed": false
   }
  },
  {
   "cell_type": "code",
   "execution_count": 24,
   "outputs": [
    {
     "data": {
      "text/plain": "990318.0"
     },
     "execution_count": 24,
     "metadata": {},
     "output_type": "execute_result"
    }
   ],
   "source": [
    "sm.volumes.car_owner.sum() + sm.volumes.pt_captive.sum()"
   ],
   "metadata": {
    "collapsed": false,
    "pycharm": {
     "name": "#%%\n"
    }
   }
  },
  {
   "cell_type": "markdown",
   "source": [
    "##### Exportaciones SM, matriz de impedancia y distribución de viajes"
   ],
   "metadata": {
    "collapsed": false
   }
  },
  {
   "cell_type": "code",
   "execution_count": null,
   "outputs": [],
   "source": [
    "##### Exportación del SM\n",
    "sm.to_zip(\n",
    "    training_folder + 'model/base/distribution.zip'.format(scen=scenario),\n",
    "    only_attributes=['volumes', 'epsg', 'coordinates_unit']\n",
    ")"
   ],
   "metadata": {
    "collapsed": false,
    "pycharm": {
     "name": "#%%\n"
    }
   }
  },
  {
   "cell_type": "code",
   "execution_count": 25,
   "outputs": [],
   "source": [
    "##### Exportacion de la matriz de  impedancia\n",
    "# Matriz de impedancia del auto\n",
    "imp_matrix_car.to_csv(r'C:/Users/orlan/Documents/UPC/PhD/Redación Tesis/Resultados/matriz_impedancia_car.csv', index = True)\n",
    "\n",
    "# Matriz de impedancia del TP\n",
    "imp_matrix_pt.to_csv(r'C:/Users/orlan/Documents/UPC/PhD/Redación Tesis/Resultados/matriz_impedancia_pt.csv', index = True)"
   ],
   "metadata": {
    "collapsed": false,
    "pycharm": {
     "name": "#%%\n"
    }
   }
  },
  {
   "cell_type": "code",
   "execution_count": 29,
   "outputs": [],
   "source": [
    "### Exportación de la distribución de viajes final \"volumens\" (la cual está interna en el SM)\n",
    "sm.volumes.to_excel(r'C:/Users/orlan/Documents/UPC/PhD/Redación Tesis/Resultados/distribucion_vol.xlsx', index = True)"
   ],
   "metadata": {
    "collapsed": false,
    "pycharm": {
     "name": "#%%\n"
    }
   }
  },
  {
   "cell_type": "markdown",
   "source": [
    "##### 2.7) Visualización de los resultados de tiempos de desplazamiento (en segundos)"
   ],
   "metadata": {
    "collapsed": false
   }
  },
  {
   "cell_type": "code",
   "execution_count": 26,
   "outputs": [
    {
     "data": {
      "text/plain": "Text(0.5,1,'Car distribution')"
     },
     "execution_count": 26,
     "metadata": {},
     "output_type": "execute_result"
    },
    {
     "data": {
      "text/plain": "<Figure size 720x360 with 2 Axes>",
      "image/png": "[encoded data removed]"
     },
     "metadata": {
      "needs_background": "light"
     },
     "output_type": "display_data"
    }
   ],
   "source": [
    "od = pd.merge(sm.volumes, sm.pt_los, on=['origin', 'destination'])\n",
    "od = pd.merge(od, sm.car_los, on=['origin', 'destination'])\n",
    "\n",
    "import matplotlib.pyplot as plt\n",
    "fig, axes = plt.subplots(1, 2, figsize=[10, 5])\n",
    "\n",
    "plot = od[['gtime']].plot(kind='hist', weights=od['pt_captive'], bins=50, alpha=0.5, ax=axes[0])\n",
    "plot.set_title('PT distribution')\n",
    "\n",
    "plot = od[['time']].plot(kind='hist', weights=od['car_owner'], bins=50, alpha=0.5, ax=axes[1])\n",
    "plot.set_title('Car distribution')"
   ],
   "metadata": {
    "collapsed": false,
    "pycharm": {
     "name": "#%%\n"
    }
   }
  },
  {
   "cell_type": "code",
   "execution_count": null,
   "outputs": [],
   "source": [
    "\n"
   ],
   "metadata": {
    "collapsed": false,
    "pycharm": {
     "name": "#%%\n"
    }
   }
  },
  {
   "cell_type": "markdown",
   "source": [
    "### 3) Road pathfinder\n",
    "#### Probar este codigo en una copia y eliminar totalmente  esta secccion.\n",
    "\n",
    "###### El código de pathfinder esta vinculado a la afectación del tráfico por los volumenes de flujo que se tienene en los links viales  ¿ y para TP?"
   ],
   "metadata": {
    "collapsed": false
   }
  },
  {
   "cell_type": "code",
   "execution_count": null,
   "outputs": [],
   "source": [
    "import sys # for automation and parallelization: set manual to false when run by a launcher\n",
    "manual, scenario = (True, 'base') if 'ipykernel' in sys.argv[0] else (False, sys.argv[1])\n",
    "import numpy as np"
   ],
   "metadata": {
    "collapsed": false,
    "pycharm": {
     "name": "#%%\n"
    }
   }
  },
  {
   "cell_type": "code",
   "execution_count": null,
   "outputs": [],
   "source": [
    "sys.path.insert(0, r'C:/Users/orlan/Documents/UPC/PhD/Papers/Paper 4/Quetzal Dev/quetzal-master')\n",
    "from quetzal.model import stepmodel\n",
    "import pandas as pd"
   ],
   "metadata": {
    "collapsed": false,
    "pycharm": {
     "name": "#%%\n"
    }
   }
  },
  {
   "cell_type": "code",
   "execution_count": null,
   "outputs": [],
   "source": [
    "training_folder ='C:/Users/orlan/Documents/UPC/PhD/Papers/Paper 4/Modelo de Demanda GDL/Modelo GDL basado en paris/'\n"
   ],
   "metadata": {
    "collapsed": false,
    "pycharm": {
     "name": "#%%\n"
    }
   }
  },
  {
   "cell_type": "markdown",
   "source": [
    "##### 3.1) Lectura del SM aon_pathfinder  y ditribution\n",
    "###### Recordemos que el SM \"aonpatfinder\" es el que integró los tiempos de desplazamiento de cada par OD (en car_los  y en pt_los, pero el otro SM tambien los tiene)  . Mientras que el SM \"distribution\" contiene la matriz de disrtribución de viajes generado por el modelo gravitatorio  (seccion 2 del codigo) en el DF de \"volumnes\""
   ],
   "metadata": {
    "collapsed": false
   }
  },
  {
   "cell_type": "code",
   "execution_count": null,
   "outputs": [],
   "source": [
    "road = stepmodel.read_zip(training_folder + r'model/{scen}/aon_pathfinder.zip'.format(scen=scenario))\n",
    "distribution = stepmodel.read_zip(training_folder + r'model/{scen}/distribution.zip'.format(scen=scenario))"
   ],
   "metadata": {
    "collapsed": false,
    "pycharm": {
     "name": "#%%\n"
    }
   }
  },
  {
   "cell_type": "markdown",
   "source": [
    "##### 3.2) Generación de un solo SM con los datos de tiempos de desplazamiento y volumenes de viajes para cada OD\n",
    "###### Estos SM (road y distribution) aparetementemnente solo tienen la diferencia del que road tiene el DF de footpaths, todo lo demás apratmente tienen el mismo contenido"
   ],
   "metadata": {
    "collapsed": false
   }
  },
  {
   "cell_type": "code",
   "execution_count": null,
   "outputs": [],
   "source": [
    "sm = road.copy()\n",
    "sm.volumes = distribution.volumes"
   ],
   "metadata": {
    "collapsed": false,
    "pycharm": {
     "name": "#%%\n"
    }
   }
  },
  {
   "cell_type": "markdown",
   "source": [
    "##### 3.3) Dar capacidades máximas de flujo a las vialidades\n",
    "###### Esto se puede mejorar si en la etapa de \"Data preparation\" es posible dejar el tipo de vialidad de cada link y a cada tipo de vialidad asignarle capacidades diferenciadas"
   ],
   "metadata": {
    "collapsed": false
   }
  },
  {
   "cell_type": "code",
   "execution_count": null,
   "outputs": [],
   "source": [
    "##### SIMPLIFICACION DE LAS CAPACIDADES DE LOS LINKS viales\n",
    "### En este caso se esta simplificando y se deja que todas tendrán una capacidad de 2,000\n",
    "sm.road_links['capacity'] = 2000"
   ],
   "metadata": {
    "collapsed": false,
    "pycharm": {
     "name": "#%%\n"
    }
   }
  },
  {
   "cell_type": "markdown",
   "source": [
    "##### Creación de la columna \"volumne_car\" que es igual a la \"car_owener\"\n",
    "###### Ya anteriormente había apuntado a que ese nombre de la columna (car_owner) que tiene los datos de volumene me parecía inadecuado, ahora lo está modificando"
   ],
   "metadata": {
    "collapsed": false
   }
  },
  {
   "cell_type": "code",
   "execution_count": null,
   "outputs": [],
   "source": [
    "### Aqui simplemente hauy un cambio de nomenclatura (que debio ser asi desde el inicio)\n",
    "\n",
    "# 'volume_car' is used for road pathfinder\n",
    "sm.volumes['volume_car'] = sm.volumes['car_owner']\n",
    "sm.road_links  # esto es inencesario\n"
   ],
   "metadata": {
    "collapsed": false,
    "pycharm": {
     "name": "#%%\n"
    }
   }
  },
  {
   "cell_type": "markdown",
   "source": [
    "## Este codigo es el de asginacion, de tráfico , es parte o todo el ultima etapa, esta en mi opinion mal colocado aqui"
   ],
   "metadata": {
    "collapsed": false
   }
  },
  {
   "cell_type": "code",
   "execution_count": null,
   "outputs": [],
   "source": [
    " ###############   AQUI, creo que abajo se comenzará a hacer el all or nothing y el de ewquilibrio de wardrop"
   ],
   "metadata": {
    "collapsed": false,
    "pycharm": {
     "name": "#%%\n"
    }
   }
  },
  {
   "cell_type": "code",
   "execution_count": null,
   "outputs": [],
   "source": [
    "### COPIAS DEL SM\n",
    "constrained = sm.copy()\n",
    "free = sm.copy()\n"
   ],
   "metadata": {
    "collapsed": false,
    "pycharm": {
     "name": "#%%\n"
    }
   }
  },
  {
   "cell_type": "code",
   "execution_count": null,
   "outputs": [],
   "source": [
    "#   ¿¿¿  Qué hace está función????\n",
    "constrained.step_road_pathfinder(maxiters=5, log=True, speedup=True, tolerance=0.01)\n",
    "#### HECHO: Esto genera un chingo de columnas nuevas en el DF de car_los\n",
    "### VER lo que le hace al DF de Road_links\n",
    "\n",
    "##### Esto ¡APARETMENETE! es el codigo asociado al equilibrium de Wardrop."
   ],
   "metadata": {
    "collapsed": false,
    "pycharm": {
     "name": "#%%\n"
    }
   }
  },
  {
   "cell_type": "code",
   "execution_count": null,
   "outputs": [],
   "source": [
    "#### Nuevamente uso de la función  \"step_road_pathfinder\"  CON UNA TORELANCIA MENOR\n",
    "free.step_road_pathfinder(maxiters=1, log=True, speedup=False, tolerance=0.001)\n"
   ],
   "metadata": {
    "collapsed": false,
    "pycharm": {
     "name": "#%%\n"
    }
   }
  },
  {
   "cell_type": "markdown",
   "source": [
    "##### 3.4) Exportación del SM con \"contrianed\" vialidades"
   ],
   "metadata": {
    "collapsed": false
   }
  },
  {
   "cell_type": "markdown",
   "source": [
    "###### HAY QUE SOLUCIONAR UN PROBLEMA DE TAMAÑO DE LA BASE DE DATOS O ALGO SIMILAR:\n",
    "###### https://es.stackoverflow.com/questions/355497/python-int-too-large-to-convert-to-c-long-al-intentar-hacer-un-update-en-mysq"
   ],
   "metadata": {
    "collapsed": false
   }
  },
  {
   "cell_type": "code",
   "execution_count": null,
   "outputs": [],
   "source": [
    "\n",
    "#######################    POR LO PRONTO,  NO LO VAMOS A EXPORTAR, SEGUIREMOS CON ESTE SM nuevo internamente en Python para usar en el proximo codigo diractamente desde aqui\n",
    "\n",
    "\n",
    "constrained.to_zip(training_folder + 'model/base/constrained_road_pathfinder.zip'.format(scen=scenario))\n",
    "\n",
    "### DA UN ERROR POR EL VOLUMEN  Y TAMAÑO DEL ARCHIVO"
   ],
   "metadata": {
    "collapsed": false,
    "pycharm": {
     "name": "#%%\n"
    }
   }
  },
  {
   "cell_type": "code",
   "execution_count": null,
   "outputs": [],
   "source": [
    "#################  Intento de solucionar el problema de la exportacion\n",
    "# Creo que: # este error tiene que ver con la cantidad de numeros enteros que contiene este objeto, aparetement los numeros enteros (int) consumen una\n",
    "# mayor memoria, hay que pasarlos a float.\n",
    "\n",
    "sys.maxsize\n",
    "\n",
    "constrained = np.zeros((1, 3))\n",
    "\n",
    "constrained.to_zip(training_folder + 'model/base/constrained_road_pathfinder.zip'.format(scen=scenario))"
   ],
   "metadata": {
    "collapsed": false,
    "pycharm": {
     "name": "#%%\n"
    }
   }
  },
  {
   "cell_type": "markdown",
   "source": [
    "##### 3.5) Visualización de las restricciones viales por volumenes"
   ],
   "metadata": {
    "collapsed": false
   }
  },
  {
   "cell_type": "code",
   "execution_count": null,
   "outputs": [],
   "source": [
    "### SE pasa a un DF\n",
    "road_links_constrained = constrained.road_links\n",
    "road_links_free = free.road_links"
   ],
   "metadata": {
    "collapsed": false,
    "pycharm": {
     "name": "#%%\n"
    }
   }
  },
  {
   "cell_type": "code",
   "execution_count": null,
   "outputs": [],
   "source": [
    "###### Modificacion , hacerlo más pro. Con barra titulo, fondo ETC\n",
    "road_links_constrained.plot(column='flow',legend=True);"
   ],
   "metadata": {
    "collapsed": false,
    "pycharm": {
     "name": "#%%\n"
    }
   }
  },
  {
   "cell_type": "code",
   "execution_count": null,
   "outputs": [],
   "source": [
    "road_links_free.plot(column='flow',legend=True);\n"
   ],
   "metadata": {
    "collapsed": false,
    "pycharm": {
     "name": "#%%\n"
    }
   }
  },
  {
   "cell_type": "code",
   "execution_count": null,
   "outputs": [],
   "source": [],
   "metadata": {
    "collapsed": false,
    "pycharm": {
     "name": "#%%\n"
    }
   }
  },
  {
   "cell_type": "markdown",
   "source": [
    "### 4) Modelo Nested Logit (distribución modal) aplicado a GDL"
   ],
   "metadata": {
    "collapsed": false
   }
  },
  {
   "cell_type": "code",
   "execution_count": 27,
   "outputs": [],
   "source": [
    "import sys # for automation and parallelization\n",
    "manual, scenario = (True, 'base') if 'ipykernel' in sys.argv[0] else (False, sys.argv[1])\n",
    "\n",
    "import sys\n",
    "sys.path.insert(0, r'C:/Users/orlan/Documents/UPC/PhD/Papers/Paper 4/Quetzal Dev/quetzal-master')\n",
    "\n",
    "from quetzal.model import stepmodel\n",
    "from quetzal.io import excel\n",
    "import pandas as pd\n",
    "if manual:\n",
    "    %matplotlib inline\n",
    "\n",
    "training_folder ='C:/Users/orlan/Documents/UPC/PhD/Papers/Paper 4/Modelo de Demanda GDL/Modelo GDL basado en paris/'\n",
    "\n",
    "from syspy.skims import skims\n",
    "import geopandas as gpd"
   ],
   "metadata": {
    "collapsed": false,
    "pycharm": {
     "name": "#%%\n"
    }
   }
  },
  {
   "cell_type": "markdown",
   "source": [
    "##### Lectura de los SM"
   ],
   "metadata": {
    "collapsed": false
   }
  },
  {
   "cell_type": "code",
   "execution_count": 28,
   "outputs": [
    {
     "name": "stderr",
     "output_type": "stream",
     "text": [
      "volumes: 100%|██████████| 2/2 [00:00<00:00, 52.62it/s]\n",
      "zones: 100%|██████████| 28/28 [00:18<00:00,  1.51it/s]                    \n",
      "zones: 100%|██████████| 29/29 [00:17<00:00,  1.65it/s]                    \n"
     ]
    }
   ],
   "source": [
    "distribution_gdl = stepmodel.read_zip('C:/Users/orlan/Documents/UPC/PhD/Papers/Paper 4/Modelo de Demanda GDL/Modelo GDL basado en paris/model/base/distribution.zip'.format(scen=scenario))\n",
    "pt_gdl = stepmodel.read_zip(training_folder + 'model/base/pruning_pt_pathfinder.zip'.format(scen=scenario))\n",
    "sm_gdl = stepmodel.read_zip(training_folder + 'model/base/aon_pathfinder.zip'.format(scen=scenario))\n",
    "\n",
    "# NOTAS: El SM de distribution contiene el DF de \"volumes\" el cual es el output del paso 2 que es trip distribution generaado a partir del modelo gravitatorio\n",
    "# el SM del archivo llamdo aon_patfinder ya contiene los car_los, pt_ los y netwokcaster"
   ],
   "metadata": {
    "collapsed": false,
    "pycharm": {
     "name": "#%%\n"
    }
   }
  },
  {
   "cell_type": "markdown",
   "source": [
    "##### Unir los pt_los, car_los y networkcaster que estan en el SM \"sm\" con el SM de \"distribution\" dado que ese contiene el DF de  volumenes"
   ],
   "metadata": {
    "collapsed": false
   }
  },
  {
   "cell_type": "code",
   "execution_count": 30,
   "outputs": [],
   "source": [
    "sm_gdl.volumes = distribution_gdl.volumes\n",
    "sm_gdl.pt_los = pt_gdl.pt_los"
   ],
   "metadata": {
    "collapsed": false,
    "pycharm": {
     "name": "#%%\n"
    }
   }
  },
  {
   "cell_type": "code",
   "execution_count": 31,
   "outputs": [],
   "source": [
    "# each segment will be processed independently in the logit\n",
    "sm_gdl.segments = ['car_owner', 'pt_captive']\n",
    "\n",
    "# se crea este serie que contiene los segmentos  de distribucion modal"
   ],
   "metadata": {
    "collapsed": false,
    "pycharm": {
     "name": "#%%\n"
    }
   }
  },
  {
   "cell_type": "markdown",
   "source": [
    "##### Lectura de las variables relacionadas a la operación de las modalidades (costos, etc)"
   ],
   "metadata": {
    "collapsed": false
   }
  },
  {
   "cell_type": "code",
   "execution_count": 32,
   "outputs": [
    {
     "data": {
      "text/plain": "category  parameter        \ngeneral   parent               base\n          bus_speed_factor      0.8\n          boarding_cost_acf     300\n          boarding_cost_wor     300\n          routes_code          base\nName: base, dtype: object"
     },
     "execution_count": 32,
     "metadata": {},
     "output_type": "execute_result"
    }
   ],
   "source": [
    "var= excel.read_var( file= 'C:/Users/orlan/Documents/UPC/PhD/Papers/Paper 4/Modelo de Demanda GDL/Data/inputs/parameters_gdl_paris.xlsx')\n",
    "var.head()\n",
    "\n",
    "########## IMPORTANTE, en este caso estamos leyendo las mismas que se aplicaron a PARIS porque no entiendo  muy bien las unidades y lo que expresan cada una, entonces dejaramos las mismas de PAris por lo pronto hasta que pueda reslver esta duda con Quentin"
   ],
   "metadata": {
    "collapsed": false,
    "pycharm": {
     "name": "#%%\n"
    }
   }
  },
  {
   "cell_type": "code",
   "execution_count": 33,
   "outputs": [
    {
     "data": {
      "text/plain": "{'time': -0.00055,\n 'price': -1,\n 'transfers': -0.25,\n 'mode': 1,\n 'pt_mode': 0.5,\n 'pt_path': 0.1}"
     },
     "execution_count": 33,
     "metadata": {},
     "output_type": "execute_result"
    }
   ],
   "source": [
    "kwargs = var['preparation_logit'].to_dict()\n",
    "kwargs\n"
   ],
   "metadata": {
    "collapsed": false,
    "pycharm": {
     "name": "#%%\n"
    }
   }
  },
  {
   "cell_type": "markdown",
   "source": [
    "### Preperación para el modelo Nested Logit\n",
    "###### IMPORATNTE: A continuacion agrega varios DF al  SM como lo son: \"ulity values\" el cual capta ciertos datos que estan en el excel de parameters. No estoy 100 % seguro que represetan. Creo que tambien se agrega otro DF llamado \"logit scales\", \"mode utility\" y \"mode_nestests\" en este se dan de alta los nidos del modelo Nested logit"
   ],
   "metadata": {
    "collapsed": false
   }
  },
  {
   "cell_type": "code",
   "execution_count": 34,
   "outputs": [],
   "source": [
    "######## Funcion \"Prepration_logit\"\n",
    "sm_gdl.preparation_logit(\n",
    "    segments=['car_owner', 'pt_captive'],\n",
    "    **kwargs\n",
    ")"
   ],
   "metadata": {
    "collapsed": false,
    "pycharm": {
     "name": "#%%\n"
    }
   }
  },
  {
   "cell_type": "markdown",
   "source": [
    "##### Visualización de los nuevos DF"
   ],
   "metadata": {
    "collapsed": false
   }
  },
  {
   "cell_type": "code",
   "execution_count": 35,
   "outputs": [
    {
     "data": {
      "text/plain": "value          time  price  ntransfers  mode_utility\nsegment                                             \nroot       -0.00055   -1.0       -0.25           1.0\ncar_owner  -0.00055   -1.0       -0.25           1.0\npt_captive -0.00055   -1.0       -0.25           1.0",
      "text/html": "<div>\n<style scoped>\n    .dataframe tbody tr th:only-of-type {\n        vertical-align: middle;\n    }\n\n    .dataframe tbody tr th {\n        vertical-align: top;\n    }\n\n    .dataframe thead th {\n        text-align: right;\n    }\n</style>\n<table border=\"1\" class=\"dataframe\">\n  <thead>\n    <tr style=\"text-align: right;\">\n      <th>value</th>\n      <th>time</th>\n      <th>price</th>\n      <th>ntransfers</th>\n      <th>mode_utility</th>\n    </tr>\n    <tr>\n      <th>segment</th>\n      <th></th>\n      <th></th>\n      <th></th>\n      <th></th>\n    </tr>\n  </thead>\n  <tbody>\n    <tr>\n      <th>root</th>\n      <td>-0.00055</td>\n      <td>-1.0</td>\n      <td>-0.25</td>\n      <td>1.0</td>\n    </tr>\n    <tr>\n      <th>car_owner</th>\n      <td>-0.00055</td>\n      <td>-1.0</td>\n      <td>-0.25</td>\n      <td>1.0</td>\n    </tr>\n    <tr>\n      <th>pt_captive</th>\n      <td>-0.00055</td>\n      <td>-1.0</td>\n      <td>-0.25</td>\n      <td>1.0</td>\n    </tr>\n  </tbody>\n</table>\n</div>"
     },
     "execution_count": 35,
     "metadata": {},
     "output_type": "execute_result"
    }
   ],
   "source": [
    "sm_gdl.utility_values.T"
   ],
   "metadata": {
    "collapsed": false,
    "pycharm": {
     "name": "#%%\n"
    }
   }
  },
  {
   "cell_type": "code",
   "execution_count": 36,
   "outputs": [
    {
     "data": {
      "text/plain": "route_type  root  car  walk  bus   pt\nsegment                              \nroot         1.0  0.0   0.0  0.1  0.5\ncar_owner    1.0  0.0   0.0  0.1  0.5\npt_captive   1.0  0.0   0.0  0.1  0.5",
      "text/html": "<div>\n<style scoped>\n    .dataframe tbody tr th:only-of-type {\n        vertical-align: middle;\n    }\n\n    .dataframe tbody tr th {\n        vertical-align: top;\n    }\n\n    .dataframe thead th {\n        text-align: right;\n    }\n</style>\n<table border=\"1\" class=\"dataframe\">\n  <thead>\n    <tr style=\"text-align: right;\">\n      <th>route_type</th>\n      <th>root</th>\n      <th>car</th>\n      <th>walk</th>\n      <th>bus</th>\n      <th>pt</th>\n    </tr>\n    <tr>\n      <th>segment</th>\n      <th></th>\n      <th></th>\n      <th></th>\n      <th></th>\n      <th></th>\n    </tr>\n  </thead>\n  <tbody>\n    <tr>\n      <th>root</th>\n      <td>1.0</td>\n      <td>0.0</td>\n      <td>0.0</td>\n      <td>0.1</td>\n      <td>0.5</td>\n    </tr>\n    <tr>\n      <th>car_owner</th>\n      <td>1.0</td>\n      <td>0.0</td>\n      <td>0.0</td>\n      <td>0.1</td>\n      <td>0.5</td>\n    </tr>\n    <tr>\n      <th>pt_captive</th>\n      <td>1.0</td>\n      <td>0.0</td>\n      <td>0.0</td>\n      <td>0.1</td>\n      <td>0.5</td>\n    </tr>\n  </tbody>\n</table>\n</div>"
     },
     "execution_count": 36,
     "metadata": {},
     "output_type": "execute_result"
    }
   ],
   "source": [
    "sm_gdl.logit_scales.T"
   ],
   "metadata": {
    "collapsed": false,
    "pycharm": {
     "name": "#%%\n"
    }
   }
  },
  {
   "cell_type": "code",
   "execution_count": 37,
   "outputs": [
    {
     "data": {
      "text/plain": "route_type root   car  walk bus    pt\nsegment                              \nroot        NaN  root  root  pt  root\ncar_owner   NaN  root  root  pt  root\npt_captive  NaN  root  root  pt  root",
      "text/html": "<div>\n<style scoped>\n    .dataframe tbody tr th:only-of-type {\n        vertical-align: middle;\n    }\n\n    .dataframe tbody tr th {\n        vertical-align: top;\n    }\n\n    .dataframe thead th {\n        text-align: right;\n    }\n</style>\n<table border=\"1\" class=\"dataframe\">\n  <thead>\n    <tr style=\"text-align: right;\">\n      <th>route_type</th>\n      <th>root</th>\n      <th>car</th>\n      <th>walk</th>\n      <th>bus</th>\n      <th>pt</th>\n    </tr>\n    <tr>\n      <th>segment</th>\n      <th></th>\n      <th></th>\n      <th></th>\n      <th></th>\n      <th></th>\n    </tr>\n  </thead>\n  <tbody>\n    <tr>\n      <th>root</th>\n      <td>NaN</td>\n      <td>root</td>\n      <td>root</td>\n      <td>pt</td>\n      <td>root</td>\n    </tr>\n    <tr>\n      <th>car_owner</th>\n      <td>NaN</td>\n      <td>root</td>\n      <td>root</td>\n      <td>pt</td>\n      <td>root</td>\n    </tr>\n    <tr>\n      <th>pt_captive</th>\n      <td>NaN</td>\n      <td>root</td>\n      <td>root</td>\n      <td>pt</td>\n      <td>root</td>\n    </tr>\n  </tbody>\n</table>\n</div>"
     },
     "execution_count": 37,
     "metadata": {},
     "output_type": "execute_result"
    }
   ],
   "source": [
    "sm_gdl.mode_nests.T # nested structure can be set for each segment"
   ],
   "metadata": {
    "collapsed": false,
    "pycharm": {
     "name": "#%%\n"
    }
   }
  },
  {
   "cell_type": "code",
   "execution_count": 38,
   "outputs": [
    {
     "data": {
      "text/plain": "route_type  root  car  walk  bus\nsegment                         \nroot           0    0     0    0\ncar_owner      0    0     0    0\npt_captive     0    0     0    0",
      "text/html": "<div>\n<style scoped>\n    .dataframe tbody tr th:only-of-type {\n        vertical-align: middle;\n    }\n\n    .dataframe tbody tr th {\n        vertical-align: top;\n    }\n\n    .dataframe thead th {\n        text-align: right;\n    }\n</style>\n<table border=\"1\" class=\"dataframe\">\n  <thead>\n    <tr style=\"text-align: right;\">\n      <th>route_type</th>\n      <th>root</th>\n      <th>car</th>\n      <th>walk</th>\n      <th>bus</th>\n    </tr>\n    <tr>\n      <th>segment</th>\n      <th></th>\n      <th></th>\n      <th></th>\n      <th></th>\n    </tr>\n  </thead>\n  <tbody>\n    <tr>\n      <th>root</th>\n      <td>0</td>\n      <td>0</td>\n      <td>0</td>\n      <td>0</td>\n    </tr>\n    <tr>\n      <th>car_owner</th>\n      <td>0</td>\n      <td>0</td>\n      <td>0</td>\n      <td>0</td>\n    </tr>\n    <tr>\n      <th>pt_captive</th>\n      <td>0</td>\n      <td>0</td>\n      <td>0</td>\n      <td>0</td>\n    </tr>\n  </tbody>\n</table>\n</div>"
     },
     "execution_count": 38,
     "metadata": {},
     "output_type": "execute_result"
    }
   ],
   "source": [
    "sm_gdl.mode_utility.T"
   ],
   "metadata": {
    "collapsed": false,
    "pycharm": {
     "name": "#%%\n"
    }
   }
  },
  {
   "cell_type": "code",
   "execution_count": 39,
   "outputs": [
    {
     "data": {
      "text/plain": "route_type  root  car  walk  bus\nsegment                         \nroot           0    0     0    0\ncar_owner      0    0     0    0\npt_captive     0 -100     0    0",
      "text/html": "<div>\n<style scoped>\n    .dataframe tbody tr th:only-of-type {\n        vertical-align: middle;\n    }\n\n    .dataframe tbody tr th {\n        vertical-align: top;\n    }\n\n    .dataframe thead th {\n        text-align: right;\n    }\n</style>\n<table border=\"1\" class=\"dataframe\">\n  <thead>\n    <tr style=\"text-align: right;\">\n      <th>route_type</th>\n      <th>root</th>\n      <th>car</th>\n      <th>walk</th>\n      <th>bus</th>\n    </tr>\n    <tr>\n      <th>segment</th>\n      <th></th>\n      <th></th>\n      <th></th>\n      <th></th>\n    </tr>\n  </thead>\n  <tbody>\n    <tr>\n      <th>root</th>\n      <td>0</td>\n      <td>0</td>\n      <td>0</td>\n      <td>0</td>\n    </tr>\n    <tr>\n      <th>car_owner</th>\n      <td>0</td>\n      <td>0</td>\n      <td>0</td>\n      <td>0</td>\n    </tr>\n    <tr>\n      <th>pt_captive</th>\n      <td>0</td>\n      <td>-100</td>\n      <td>0</td>\n      <td>0</td>\n    </tr>\n  </tbody>\n</table>\n</div>"
     },
     "execution_count": 39,
     "metadata": {},
     "output_type": "execute_result"
    }
   ],
   "source": [
    "### Aqui hace una modificacion a los valores en el DF de \"mode utility\"\n",
    "sm_gdl.mode_utility.loc[ 'car', 'pt_captive'] = -100 # aqui a la fraccion de las persona que solo pueden usar TP (captivos TP) se le asgina una utlidad al auto muy mala (-100) esto hará que dentro del modelo logit esa fraccion de las personas tengan una muy baja predisposición a usar el auto\n",
    "sm_gdl.mode_utility.T\n"
   ],
   "metadata": {
    "collapsed": false,
    "pycharm": {
     "name": "#%%\n"
    }
   }
  },
  {
   "cell_type": "markdown",
   "source": [
    "### Evaluación de la utilidad"
   ],
   "metadata": {
    "collapsed": false
   }
  },
  {
   "cell_type": "code",
   "execution_count": 40,
   "outputs": [],
   "source": [
    "#### Agrega varias nuevas columnas a los DF de pt_los y car_los, aque les da valores de 0\n",
    "\n",
    "sm_gdl.pt_los['ntransfers'] = sm_gdl.pt_los['alighting_links'].apply(lambda x: max(len(x)-1, 0))   ## Este es redudandate porque el pt_los ya contiene esta columna con los mismos valores\n",
    "sm_gdl.pt_los['price'] = 0 # sm.analysis_pt_fare\n",
    "sm_gdl.car_los['ntransfers'] = 0\n",
    "sm_gdl.car_los['price'] = 0"
   ],
   "metadata": {
    "collapsed": false,
    "pycharm": {
     "name": "#%%\n"
    }
   }
  },
  {
   "cell_type": "markdown",
   "source": [
    "### IMPORTANTE: Cálculo de la utilidad\n",
    "###### Esto realmente no hace el calculo de la utilidad, más bien genera columnas de etqapas de tiempo en el viaje (waiting time, acces time, time in vehile)"
   ],
   "metadata": {
    "collapsed": false
   }
  },
  {
   "cell_type": "code",
   "execution_count": 41,
   "outputs": [],
   "source": [
    "# sm_gdl.pt_los['time'] = sm_gdl.pt_los['gtime'] # creo que no es necesario\n",
    "\n",
    "### IMPORANTE: Esto genera 10 nuevas columnas en el pt_los vinculadas a tiempos y distancia (access_length, footpath_length, length, acces time, footpath_time, in vehicle time, waiting time, y time)\n",
    "sm_gdl.analysis_pt_time(walk_on_road=True) #############   IMPORTANTISMO, el walk_on_road= true"
   ],
   "metadata": {
    "collapsed": false,
    "pycharm": {
     "name": "#%%\n"
    }
   }
  },
  {
   "cell_type": "code",
   "execution_count": 42,
   "outputs": [],
   "source": [
    "# builds 'route_type' in pt_los based on 'route_types'\n",
    "sm_gdl.analysis_pt_route_type(hierarchy=[ 'car','bus', 'walk'])\n",
    "sm_gdl.analysis_car_route_type() # add route_type = 'car' in car_los"
   ],
   "metadata": {
    "collapsed": false,
    "pycharm": {
     "name": "#%%\n"
    }
   }
  },
  {
   "cell_type": "markdown",
   "source": [
    "##### Creación del DF LOS, \"LOS\" contiene todos los viajes OD possibles bajo todas las modalidades y contiene la concatenacion de links (los links utilzados para ese viaje)"
   ],
   "metadata": {
    "collapsed": false
   }
  },
  {
   "cell_type": "code",
   "execution_count": 43,
   "outputs": [],
   "source": [
    "# VER bien esto.\n",
    "# concatenate pt_los and car_los (uno de los PT_los y el car_los en uno solo que es LOS)\n",
    "sm_gdl.los = pd.concat([sm_gdl.pt_los, sm_gdl.car_los]).reset_index(drop=True)\n",
    "sm_gdl.los['path'] = sm_gdl.los['path'].apply(lambda p: tuple(p))\n",
    "\n",
    "# CREA UN NUEVO DF: llamado Los que contien la combinacion de pt_los y car_los"
   ],
   "metadata": {
    "collapsed": false,
    "pycharm": {
     "name": "#%%\n"
    }
   }
  },
  {
   "cell_type": "markdown",
   "source": [
    "###### Generación de los valores de utilidad para cada viaje para todas las modalidades"
   ],
   "metadata": {
    "collapsed": false
   }
  },
  {
   "cell_type": "code",
   "execution_count": 44,
   "outputs": [
    {
     "name": "stderr",
     "output_type": "stream",
     "text": [
      "100%|██████████| 2/2 [00:00<00:00,  4.54it/s]\n"
     ]
    }
   ],
   "source": [
    "# Genera columnas de utilidad para cada modalidad en el DF de LOS\n",
    "sm_gdl.analysis_mode_utility()"
   ],
   "metadata": {
    "collapsed": false,
    "pycharm": {
     "name": "#%%\n"
    }
   }
  },
  {
   "cell_type": "code",
   "execution_count": 45,
   "outputs": [
    {
     "data": {
      "text/plain": "   origin destination         gtime  \\\n0  zone_0      zone_0      0.000000   \n1  zone_0      zone_1   1524.280407   \n2  zone_0     zone_10  13196.533922   \n\n                                                path reversed  \\\n0                                          (zone_0,)    False   \n1  (zone_0, 4738717039, 4738717043, 4738717041, 4...    False   \n2  (zone_0, 4738717034, 4738717037, 4738717022, 4...    False   \n\n  pathfinder_session broken_modes boardings alightings  \\\n0       mode_breaker        {bus}        []         []   \n1       mode_breaker        {bus}        []         []   \n2       mode_breaker        {bus}        []         []   \n\n                                           node_path  ... footpath_time  \\\n0                                                 []  ...      0.000000   \n1  [4738717039, 4738717043, 4738717041, 473871703...  ...   1196.048271   \n2  [4738717034, 4738717037, 4738717022, 473871642...  ...  11045.291148   \n\n  in_vehicle_time waiting_time boarding_time          time route_types  \\\n0             0.0          0.0           0.0      0.000000          ()   \n1             0.0          0.0           0.0   1367.990563          ()   \n2             0.0          0.0           0.0  13009.587489          ()   \n\n  route_type  mode_utility  (car_owner, utility)  (pt_captive, utility)  \n0       walk             0              0.000000               0.000000  \n1       walk             0             -0.752395              -0.752395  \n2       walk             0             -7.155273              -7.155273  \n\n[3 rows x 32 columns]",
      "text/html": "<div>\n<style scoped>\n    .dataframe tbody tr th:only-of-type {\n        vertical-align: middle;\n    }\n\n    .dataframe tbody tr th {\n        vertical-align: top;\n    }\n\n    .dataframe thead th {\n        text-align: right;\n    }\n</style>\n<table border=\"1\" class=\"dataframe\">\n  <thead>\n    <tr style=\"text-align: right;\">\n      <th></th>\n      <th>origin</th>\n      <th>destination</th>\n      <th>gtime</th>\n      <th>path</th>\n      <th>reversed</th>\n      <th>pathfinder_session</th>\n      <th>broken_modes</th>\n      <th>boardings</th>\n      <th>alightings</th>\n      <th>node_path</th>\n      <th>...</th>\n      <th>footpath_time</th>\n      <th>in_vehicle_time</th>\n      <th>waiting_time</th>\n      <th>boarding_time</th>\n      <th>time</th>\n      <th>route_types</th>\n      <th>route_type</th>\n      <th>mode_utility</th>\n      <th>(car_owner, utility)</th>\n      <th>(pt_captive, utility)</th>\n    </tr>\n  </thead>\n  <tbody>\n    <tr>\n      <th>0</th>\n      <td>zone_0</td>\n      <td>zone_0</td>\n      <td>0.000000</td>\n      <td>(zone_0,)</td>\n      <td>False</td>\n      <td>mode_breaker</td>\n      <td>{bus}</td>\n      <td>[]</td>\n      <td>[]</td>\n      <td>[]</td>\n      <td>...</td>\n      <td>0.000000</td>\n      <td>0.0</td>\n      <td>0.0</td>\n      <td>0.0</td>\n      <td>0.000000</td>\n      <td>()</td>\n      <td>walk</td>\n      <td>0</td>\n      <td>0.000000</td>\n      <td>0.000000</td>\n    </tr>\n    <tr>\n      <th>1</th>\n      <td>zone_0</td>\n      <td>zone_1</td>\n      <td>1524.280407</td>\n      <td>(zone_0, 4738717039, 4738717043, 4738717041, 4...</td>\n      <td>False</td>\n      <td>mode_breaker</td>\n      <td>{bus}</td>\n      <td>[]</td>\n      <td>[]</td>\n      <td>[4738717039, 4738717043, 4738717041, 473871703...</td>\n      <td>...</td>\n      <td>1196.048271</td>\n      <td>0.0</td>\n      <td>0.0</td>\n      <td>0.0</td>\n      <td>1367.990563</td>\n      <td>()</td>\n      <td>walk</td>\n      <td>0</td>\n      <td>-0.752395</td>\n      <td>-0.752395</td>\n    </tr>\n    <tr>\n      <th>2</th>\n      <td>zone_0</td>\n      <td>zone_10</td>\n      <td>13196.533922</td>\n      <td>(zone_0, 4738717034, 4738717037, 4738717022, 4...</td>\n      <td>False</td>\n      <td>mode_breaker</td>\n      <td>{bus}</td>\n      <td>[]</td>\n      <td>[]</td>\n      <td>[4738717034, 4738717037, 4738717022, 473871642...</td>\n      <td>...</td>\n      <td>11045.291148</td>\n      <td>0.0</td>\n      <td>0.0</td>\n      <td>0.0</td>\n      <td>13009.587489</td>\n      <td>()</td>\n      <td>walk</td>\n      <td>0</td>\n      <td>-7.155273</td>\n      <td>-7.155273</td>\n    </tr>\n  </tbody>\n</table>\n<p>3 rows × 32 columns</p>\n</div>"
     },
     "execution_count": 45,
     "metadata": {},
     "output_type": "execute_result"
    }
   ],
   "source": [
    "sm_gdl.los.head(3)"
   ],
   "metadata": {
    "collapsed": false,
    "pycharm": {
     "name": "#%%\n"
    }
   }
  },
  {
   "cell_type": "markdown",
   "source": [
    "##### Generación del DF de utilidades y probab ilidad"
   ],
   "metadata": {
    "collapsed": false
   }
  },
  {
   "cell_type": "code",
   "execution_count": 46,
   "outputs": [
    {
     "name": "stderr",
     "output_type": "stream",
     "text": [
      "100%|██████████| 5/5 [00:04<00:00,  1.05it/s]\n"
     ]
    }
   ],
   "source": [
    "sm_gdl.initialize_logit()\n",
    "sm_gdl.step_logit(nchunks=5)\n",
    "\n",
    "# sm_gdl.step_logit(keep_od_tables=True)  ANTERIOR\n",
    "### SE GENERA, LA MATRIZ DE UTILIDAD. en el DF llamado utilities.\n",
    "## tambien se genera el  DF de PROBABILITIES."
   ],
   "metadata": {
    "collapsed": false,
    "pycharm": {
     "name": "#%%\n"
    }
   }
  },
  {
   "cell_type": "code",
   "execution_count": 47,
   "outputs": [],
   "source": [
    "###### Generación de una matriz mejor estructurada\n",
    "sm_gdl.od_probabilities = sm_gdl.probabilities.set_index(\n",
    "    ['origin', 'destination', 'segment']\n",
    ").unstack('segment').swaplevel(axis='columns')\n",
    "\n",
    "sm_gdl.od_utilities = sm_gdl.utilities.set_index(\n",
    "    ['origin', 'destination', 'segment']\n",
    ").unstack('segment').swaplevel(axis='columns')\n"
   ],
   "metadata": {
    "collapsed": false,
    "pycharm": {
     "name": "#%%\n"
    }
   }
  },
  {
   "cell_type": "markdown",
   "source": [
    "##### Visualización de la matriz de probabilidades"
   ],
   "metadata": {
    "collapsed": false
   }
  },
  {
   "cell_type": "code",
   "execution_count": 48,
   "outputs": [
    {
     "data": {
      "text/plain": "segment             car_owner pt_captive car_owner pt_captive car_owner  \\\nroute_type               root       root      walk       walk       car   \norigin  destination                                                       \nzone_0  zone_0              1          1  0.500000   1.000000  0.500000   \n        zone_1              1          1  0.391394   1.000000  0.608606   \n        zone_10             1          1  0.008507   0.275264  0.969096   \n        zone_100            1          1  0.140421   0.503434  0.721074   \n        zone_101            1          1  0.146917   0.415731  0.646605   \n...                       ...        ...       ...        ...       ...   \nzone_99 zone_95             1          1  0.418832   1.000000  0.581168   \n        zone_96             1          1  0.273882   0.546817  0.499133   \n        zone_97             1          1  0.302679   0.537401  0.436772   \n        zone_98             1          1  0.235424   0.444924  0.470866   \n        zone_99             1          1  0.500000   1.000000  0.500000   \n\nsegment                pt_captive car_owner pt_captive car_owner pt_captive  \nroute_type                    car        pt         pt       bus        bus  \norigin  destination                                                          \nzone_0  zone_0       3.720076e-44  0.000000   0.000000  0.000000   0.000000  \n        zone_1       5.784598e-44  0.000000   0.000000  0.000000   0.000000  \n        zone_10      1.166554e-42  0.022397   0.724736  0.022397   0.724736  \n        zone_100     9.617049e-44  0.138505   0.496566  0.138505   0.496566  \n        zone_101     6.806612e-44  0.206478   0.584269  0.206478   0.584269  \n...                           ...       ...        ...       ...        ...  \nzone_99 zone_95      5.161956e-44  0.000000   0.000000  0.000000   0.000000  \n        zone_96      3.707195e-44  0.226985   0.453183  0.226985   0.453183  \n        zone_97      2.884849e-44  0.260548   0.462599  0.260548   0.462599  \n        zone_98      3.310429e-44  0.293709   0.555076  0.293709   0.555076  \n        zone_99      3.720076e-44  0.000000   0.000000  0.000000   0.000000  \n\n[188356 rows x 10 columns]",
      "text/html": "<div>\n<style scoped>\n    .dataframe tbody tr th:only-of-type {\n        vertical-align: middle;\n    }\n\n    .dataframe tbody tr th {\n        vertical-align: top;\n    }\n\n    .dataframe thead tr th {\n        text-align: left;\n    }\n\n    .dataframe thead tr:last-of-type th {\n        text-align: right;\n    }\n</style>\n<table border=\"1\" class=\"dataframe\">\n  <thead>\n    <tr>\n      <th></th>\n      <th>segment</th>\n      <th>car_owner</th>\n      <th>pt_captive</th>\n      <th>car_owner</th>\n      <th>pt_captive</th>\n      <th>car_owner</th>\n      <th>pt_captive</th>\n      <th>car_owner</th>\n      <th>pt_captive</th>\n      <th>car_owner</th>\n      <th>pt_captive</th>\n    </tr>\n    <tr>\n      <th></th>\n      <th>route_type</th>\n      <th>root</th>\n      <th>root</th>\n      <th>walk</th>\n      <th>walk</th>\n      <th>car</th>\n      <th>car</th>\n      <th>pt</th>\n      <th>pt</th>\n      <th>bus</th>\n      <th>bus</th>\n    </tr>\n    <tr>\n      <th>origin</th>\n      <th>destination</th>\n      <th></th>\n      <th></th>\n      <th></th>\n      <th></th>\n      <th></th>\n      <th></th>\n      <th></th>\n      <th></th>\n      <th></th>\n      <th></th>\n    </tr>\n  </thead>\n  <tbody>\n    <tr>\n      <th rowspan=\"5\" valign=\"top\">zone_0</th>\n      <th>zone_0</th>\n      <td>1</td>\n      <td>1</td>\n      <td>0.500000</td>\n      <td>1.000000</td>\n      <td>0.500000</td>\n      <td>3.720076e-44</td>\n      <td>0.000000</td>\n      <td>0.000000</td>\n      <td>0.000000</td>\n      <td>0.000000</td>\n    </tr>\n    <tr>\n      <th>zone_1</th>\n      <td>1</td>\n      <td>1</td>\n      <td>0.391394</td>\n      <td>1.000000</td>\n      <td>0.608606</td>\n      <td>5.784598e-44</td>\n      <td>0.000000</td>\n      <td>0.000000</td>\n      <td>0.000000</td>\n      <td>0.000000</td>\n    </tr>\n    <tr>\n      <th>zone_10</th>\n      <td>1</td>\n      <td>1</td>\n      <td>0.008507</td>\n      <td>0.275264</td>\n      <td>0.969096</td>\n      <td>1.166554e-42</td>\n      <td>0.022397</td>\n      <td>0.724736</td>\n      <td>0.022397</td>\n      <td>0.724736</td>\n    </tr>\n    <tr>\n      <th>zone_100</th>\n      <td>1</td>\n      <td>1</td>\n      <td>0.140421</td>\n      <td>0.503434</td>\n      <td>0.721074</td>\n      <td>9.617049e-44</td>\n      <td>0.138505</td>\n      <td>0.496566</td>\n      <td>0.138505</td>\n      <td>0.496566</td>\n    </tr>\n    <tr>\n      <th>zone_101</th>\n      <td>1</td>\n      <td>1</td>\n      <td>0.146917</td>\n      <td>0.415731</td>\n      <td>0.646605</td>\n      <td>6.806612e-44</td>\n      <td>0.206478</td>\n      <td>0.584269</td>\n      <td>0.206478</td>\n      <td>0.584269</td>\n    </tr>\n    <tr>\n      <th>...</th>\n      <th>...</th>\n      <td>...</td>\n      <td>...</td>\n      <td>...</td>\n      <td>...</td>\n      <td>...</td>\n      <td>...</td>\n      <td>...</td>\n      <td>...</td>\n      <td>...</td>\n      <td>...</td>\n    </tr>\n    <tr>\n      <th rowspan=\"5\" valign=\"top\">zone_99</th>\n      <th>zone_95</th>\n      <td>1</td>\n      <td>1</td>\n      <td>0.418832</td>\n      <td>1.000000</td>\n      <td>0.581168</td>\n      <td>5.161956e-44</td>\n      <td>0.000000</td>\n      <td>0.000000</td>\n      <td>0.000000</td>\n      <td>0.000000</td>\n    </tr>\n    <tr>\n      <th>zone_96</th>\n      <td>1</td>\n      <td>1</td>\n      <td>0.273882</td>\n      <td>0.546817</td>\n      <td>0.499133</td>\n      <td>3.707195e-44</td>\n      <td>0.226985</td>\n      <td>0.453183</td>\n      <td>0.226985</td>\n      <td>0.453183</td>\n    </tr>\n    <tr>\n      <th>zone_97</th>\n      <td>1</td>\n      <td>1</td>\n      <td>0.302679</td>\n      <td>0.537401</td>\n      <td>0.436772</td>\n      <td>2.884849e-44</td>\n      <td>0.260548</td>\n      <td>0.462599</td>\n      <td>0.260548</td>\n      <td>0.462599</td>\n    </tr>\n    <tr>\n      <th>zone_98</th>\n      <td>1</td>\n      <td>1</td>\n      <td>0.235424</td>\n      <td>0.444924</td>\n      <td>0.470866</td>\n      <td>3.310429e-44</td>\n      <td>0.293709</td>\n      <td>0.555076</td>\n      <td>0.293709</td>\n      <td>0.555076</td>\n    </tr>\n    <tr>\n      <th>zone_99</th>\n      <td>1</td>\n      <td>1</td>\n      <td>0.500000</td>\n      <td>1.000000</td>\n      <td>0.500000</td>\n      <td>3.720076e-44</td>\n      <td>0.000000</td>\n      <td>0.000000</td>\n      <td>0.000000</td>\n      <td>0.000000</td>\n    </tr>\n  </tbody>\n</table>\n<p>188356 rows × 10 columns</p>\n</div>"
     },
     "execution_count": 48,
     "metadata": {},
     "output_type": "execute_result"
    }
   ],
   "source": [
    "sm_gdl.od_probabilities"
   ],
   "metadata": {
    "collapsed": false,
    "pycharm": {
     "name": "#%%\n"
    }
   }
  },
  {
   "cell_type": "code",
   "execution_count": 49,
   "outputs": [],
   "source": [
    "t = sm_gdl.los['path'].apply(tuple)"
   ],
   "metadata": {
    "collapsed": false,
    "pycharm": {
     "name": "#%%\n"
    }
   }
  },
  {
   "cell_type": "code",
   "execution_count": 50,
   "outputs": [],
   "source": [
    "if manual:\n",
    "    %matplotlib inline"
   ],
   "metadata": {
    "collapsed": false,
    "pycharm": {
     "name": "#%%\n"
    }
   }
  },
  {
   "cell_type": "code",
   "execution_count": 51,
   "outputs": [],
   "source": [
    "sm_gdl.od = sm_gdl.volumes.set_index(['origin', 'destination'])[['car_owner', 'pt_captive']]"
   ],
   "metadata": {
    "collapsed": false,
    "pycharm": {
     "name": "#%%\n"
    }
   }
  },
  {
   "cell_type": "markdown",
   "source": [
    "#### Visualizción de la matriz de probabilidades"
   ],
   "metadata": {
    "collapsed": false
   }
  },
  {
   "cell_type": "code",
   "execution_count": 52,
   "outputs": [
    {
     "data": {
      "text/plain": "route_type    origin destination     segment  root      walk           car  \\\n0           zone_123      zone_0   car_owner     1  0.154477  6.294760e-01   \n1           zone_123      zone_0  pt_captive     1  0.416914  6.319963e-44   \n2           zone_123      zone_1   car_owner     1  0.127477  7.119148e-01   \n3           zone_123      zone_1  pt_captive     1  0.442496  9.193032e-44   \n4           zone_123     zone_10   car_owner     1  0.014653  9.529017e-01   \n...              ...         ...         ...   ...       ...           ...   \n74643        zone_97     zone_97  pt_captive     1  1.000000  3.720076e-44   \n74644        zone_97     zone_98   car_owner     1  0.216080  4.642085e-01   \n74645        zone_97     zone_98  pt_captive     1  0.403292  3.223065e-44   \n74646        zone_97     zone_99   car_owner     1  0.302320  4.374402e-01   \n74647        zone_97     zone_99  pt_captive     1  0.537401  2.892689e-44   \n\nroute_type        pt       bus  \n0           0.216047  0.216047  \n1           0.583086  0.583086  \n2           0.160609  0.160609  \n3           0.557504  0.557504  \n4           0.032445  0.032445  \n...              ...       ...  \n74643       0.000000  0.000000  \n74644       0.319711  0.319711  \n74645       0.596708  0.596708  \n74646       0.260240  0.260240  \n74647       0.462599  0.462599  \n\n[376712 rows x 8 columns]",
      "text/html": "<div>\n<style scoped>\n    .dataframe tbody tr th:only-of-type {\n        vertical-align: middle;\n    }\n\n    .dataframe tbody tr th {\n        vertical-align: top;\n    }\n\n    .dataframe thead th {\n        text-align: right;\n    }\n</style>\n<table border=\"1\" class=\"dataframe\">\n  <thead>\n    <tr style=\"text-align: right;\">\n      <th>route_type</th>\n      <th>origin</th>\n      <th>destination</th>\n      <th>segment</th>\n      <th>root</th>\n      <th>walk</th>\n      <th>car</th>\n      <th>pt</th>\n      <th>bus</th>\n    </tr>\n  </thead>\n  <tbody>\n    <tr>\n      <th>0</th>\n      <td>zone_123</td>\n      <td>zone_0</td>\n      <td>car_owner</td>\n      <td>1</td>\n      <td>0.154477</td>\n      <td>6.294760e-01</td>\n      <td>0.216047</td>\n      <td>0.216047</td>\n    </tr>\n    <tr>\n      <th>1</th>\n      <td>zone_123</td>\n      <td>zone_0</td>\n      <td>pt_captive</td>\n      <td>1</td>\n      <td>0.416914</td>\n      <td>6.319963e-44</td>\n      <td>0.583086</td>\n      <td>0.583086</td>\n    </tr>\n    <tr>\n      <th>2</th>\n      <td>zone_123</td>\n      <td>zone_1</td>\n      <td>car_owner</td>\n      <td>1</td>\n      <td>0.127477</td>\n      <td>7.119148e-01</td>\n      <td>0.160609</td>\n      <td>0.160609</td>\n    </tr>\n    <tr>\n      <th>3</th>\n      <td>zone_123</td>\n      <td>zone_1</td>\n      <td>pt_captive</td>\n      <td>1</td>\n      <td>0.442496</td>\n      <td>9.193032e-44</td>\n      <td>0.557504</td>\n      <td>0.557504</td>\n    </tr>\n    <tr>\n      <th>4</th>\n      <td>zone_123</td>\n      <td>zone_10</td>\n      <td>car_owner</td>\n      <td>1</td>\n      <td>0.014653</td>\n      <td>9.529017e-01</td>\n      <td>0.032445</td>\n      <td>0.032445</td>\n    </tr>\n    <tr>\n      <th>...</th>\n      <td>...</td>\n      <td>...</td>\n      <td>...</td>\n      <td>...</td>\n      <td>...</td>\n      <td>...</td>\n      <td>...</td>\n      <td>...</td>\n    </tr>\n    <tr>\n      <th>74643</th>\n      <td>zone_97</td>\n      <td>zone_97</td>\n      <td>pt_captive</td>\n      <td>1</td>\n      <td>1.000000</td>\n      <td>3.720076e-44</td>\n      <td>0.000000</td>\n      <td>0.000000</td>\n    </tr>\n    <tr>\n      <th>74644</th>\n      <td>zone_97</td>\n      <td>zone_98</td>\n      <td>car_owner</td>\n      <td>1</td>\n      <td>0.216080</td>\n      <td>4.642085e-01</td>\n      <td>0.319711</td>\n      <td>0.319711</td>\n    </tr>\n    <tr>\n      <th>74645</th>\n      <td>zone_97</td>\n      <td>zone_98</td>\n      <td>pt_captive</td>\n      <td>1</td>\n      <td>0.403292</td>\n      <td>3.223065e-44</td>\n      <td>0.596708</td>\n      <td>0.596708</td>\n    </tr>\n    <tr>\n      <th>74646</th>\n      <td>zone_97</td>\n      <td>zone_99</td>\n      <td>car_owner</td>\n      <td>1</td>\n      <td>0.302320</td>\n      <td>4.374402e-01</td>\n      <td>0.260240</td>\n      <td>0.260240</td>\n    </tr>\n    <tr>\n      <th>74647</th>\n      <td>zone_97</td>\n      <td>zone_99</td>\n      <td>pt_captive</td>\n      <td>1</td>\n      <td>0.537401</td>\n      <td>2.892689e-44</td>\n      <td>0.462599</td>\n      <td>0.462599</td>\n    </tr>\n  </tbody>\n</table>\n<p>376712 rows × 8 columns</p>\n</div>"
     },
     "execution_count": 52,
     "metadata": {},
     "output_type": "execute_result"
    }
   ],
   "source": [
    "sm_gdl.probabilities\n",
    "### NOTESE que hubo un cambio en la estructura del DF de probabilidades"
   ],
   "metadata": {
    "collapsed": false,
    "pycharm": {
     "name": "#%%\n"
    }
   }
  },
  {
   "cell_type": "code",
   "execution_count": 53,
   "outputs": [],
   "source": [
    "a = sm_gdl.od_probabilities.copy()\n",
    "a.columns = pd.MultiIndex.from_tuples(a.columns)"
   ],
   "metadata": {
    "collapsed": false,
    "pycharm": {
     "name": "#%%\n"
    }
   }
  },
  {
   "cell_type": "code",
   "execution_count": 54,
   "outputs": [],
   "source": [
    "voy = a['car_owner'].apply(lambda c: c * sm_gdl.od['car_owner']) + a['pt_captive'].apply(lambda c: c * sm_gdl.od['pt_captive'])\n",
    "\n",
    "### VOY, creo que expresa la distribucion de VIAJES totales por modalidad de acuerdo a las probabilidad\n",
    "# dentro de VOY esta la columna root que realmente es la sumatoria de car y walk, pt seria la sumatoria de todos los modos de  TP pero en este c aso como solo hay bus pt es igual a bus"
   ],
   "metadata": {
    "collapsed": false,
    "pycharm": {
     "name": "#%%\n"
    }
   }
  },
  {
   "cell_type": "markdown",
   "source": [
    "##### Visualización de distreibucion de viajes"
   ],
   "metadata": {
    "collapsed": false
   }
  },
  {
   "cell_type": "code",
   "execution_count": 55,
   "outputs": [
    {
     "data": {
      "text/plain": "<Figure size 360x360 with 1 Axes>",
      "image/png": "[encoded data removed]"
     },
     "metadata": {},
     "output_type": "display_data"
    }
   ],
   "source": [
    "s = voy.sum()[sorted(set(sm_gdl.mode_nests.index) - set(sm_gdl.mode_nests['root']))]\n",
    "plot = s.plot(\n",
    "    kind='pie',\n",
    "    autopct='%1.0f%%',\n",
    "    shadow=False,\n",
    "    startangle=90, figsize=[5, 5])\n",
    "plot.set_aspect('equal')\n"
   ],
   "metadata": {
    "collapsed": false,
    "pycharm": {
     "name": "#%%\n"
    }
   }
  },
  {
   "cell_type": "markdown",
   "source": [
    "##### Viajes totales por modalidad"
   ],
   "metadata": {
    "collapsed": false,
    "pycharm": {
     "name": "#%% md\n"
    }
   }
  },
  {
   "cell_type": "code",
   "execution_count": 56,
   "outputs": [
    {
     "data": {
      "text/plain": "bus     422628.328848\ncar     257667.854291\nwalk    310021.816861\ndtype: float64"
     },
     "execution_count": 56,
     "metadata": {},
     "output_type": "execute_result"
    }
   ],
   "source": [
    "s.head()"
   ],
   "metadata": {
    "collapsed": false,
    "pycharm": {
     "name": "#%%\n"
    }
   }
  },
  {
   "cell_type": "markdown",
   "source": [
    "##### Exportacion de las matrices de utlidad, matrices de probabilidad de distribucion modal y distribucion de viajes por modalidad"
   ],
   "metadata": {
    "collapsed": false
   }
  },
  {
   "cell_type": "code",
   "execution_count": 57,
   "outputs": [],
   "source": [
    "sm_gdl.utilities.to_excel(r'C:/Users/orlan/Documents/UPC/PhD/Redación Tesis/Resultados/matriz_utilidades.xlsx', index = True)\n",
    "\n",
    "sm_gdl.probabilities.to_excel(r'C:/Users/orlan/Documents/UPC/PhD/Redación Tesis/Resultados/matriz_probabilidades.xlsx', index = True)\n",
    "\n",
    "voy.to_excel (r'C:/Users/orlan/Documents/UPC/PhD/Redación Tesis/Resultados/distribucion_viajes_modalidad.xlsx', index = True)"
   ],
   "metadata": {
    "collapsed": false,
    "pycharm": {
     "name": "#%%\n"
    }
   }
  },
  {
   "cell_type": "markdown",
   "source": [
    "##### Exportacion del nuevo SM con la distribucion modal"
   ],
   "metadata": {
    "collapsed": false
   }
  },
  {
   "cell_type": "code",
   "execution_count": null,
   "outputs": [],
   "source": [
    "sm_gdl.to_zip(training_folder + 'model/base/sm_gdl_modal_split.zip'.format(scen=scenario))"
   ],
   "metadata": {
    "collapsed": false,
    "pycharm": {
     "name": "#%%\n"
    }
   }
  },
  {
   "cell_type": "code",
   "execution_count": null,
   "outputs": [],
   "source": [],
   "metadata": {
    "collapsed": false,
    "pycharm": {
     "name": "#%%\n"
    }
   }
  },
  {
   "cell_type": "markdown",
   "source": [
    "### 5) Asignación a la red "
   ],
   "metadata": {
    "collapsed": false
   }
  },
  {
   "cell_type": "code",
   "execution_count": 1,
   "outputs": [
    {
     "name": "stdout",
     "output_type": "stream",
     "text": [
      "SQLalchemy is not installed. No support for SQL output.\n"
     ]
    }
   ],
   "source": [
    "import sys # for automation and parallelization\n",
    "manual, scenario = (True, 'base') if 'ipykernel' in sys.argv[0] else (False, sys.argv[1])\n",
    "\n",
    "import sys\n",
    "sys.path.insert(0, r'C:/Users/orlan/Documents/UPC/PhD/Papers/Paper 4/Quetzal Dev/quetzal-master')\n",
    "\n",
    "from quetzal.model import stepmodel\n",
    "from quetzal.io import excel\n",
    "import pandas as pd\n",
    "if manual:\n",
    "    %matplotlib inline\n",
    "\n",
    "import geopandas as gpd\n",
    "\n",
    "training_folder ='C:/Users/orlan/Documents/UPC/PhD/Papers/Paper 4/Modelo de Demanda GDL/Modelo GDL basado en paris/'"
   ],
   "metadata": {
    "collapsed": false,
    "pycharm": {
     "name": "#%%\n"
    }
   }
  },
  {
   "cell_type": "markdown",
   "source": [
    "##### Lectura del SM con la distribucion modal"
   ],
   "metadata": {
    "collapsed": false
   }
  },
  {
   "cell_type": "code",
   "execution_count": 2,
   "outputs": [
    {
     "name": "stderr",
     "output_type": "stream",
     "text": [
      "zones: 100%|██████████| 37/37 [00:44<00:00,  1.22s/it]                    \n"
     ]
    }
   ],
   "source": [
    "sm_gdl = stepmodel.read_zip('C:/Users/orlan/Documents/UPC/PhD/Papers/Paper 4/Modelo de Demanda GDL/Modelo GDL basado en paris/model/base/sm_gdl_modal_split.zip'.format(scen=scenario))"
   ],
   "metadata": {
    "collapsed": false,
    "pycharm": {
     "name": "#%%\n"
    }
   }
  },
  {
   "cell_type": "code",
   "execution_count": 3,
   "outputs": [],
   "source": [
    "sm_gdl.car_los['path'] = sm_gdl.car_los['path'].apply(tuple)\n",
    "sm_gdl.pt_los['path'] = sm_gdl.pt_los['path'].apply(tuple)\n",
    "sm_gdl.los['path'] = sm_gdl.los['path'].apply(tuple)"
   ],
   "metadata": {
    "collapsed": false,
    "pycharm": {
     "name": "#%%\n"
    }
   }
  },
  {
   "cell_type": "markdown",
   "source": [
    "#### Funcion de asignación"
   ],
   "metadata": {
    "collapsed": false
   }
  },
  {
   "cell_type": "code",
   "execution_count": 4,
   "outputs": [],
   "source": [
    "sm_gdl.step_assignment(boardings=True, alightings=True, transfers=True, road=True, segmented=False, boarding_links= True)"
   ],
   "metadata": {
    "collapsed": false,
    "pycharm": {
     "name": "#%%\n"
    }
   }
  },
  {
   "cell_type": "markdown",
   "source": [
    "##### Visualización de las caracterisitcas de los road_links"
   ],
   "metadata": {
    "collapsed": false
   }
  },
  {
   "cell_type": "code",
   "execution_count": 5,
   "outputs": [
    {
     "data": {
      "text/plain": "index                                                        53982\na                                                       1920779582\nb                                                       1920779584\nlength                                                      50.746\ngeometry         LINESTRING (-11521212.33264352 2366758.4017226...\ntime                                                       6.81714\nwalk_time                                                  20.4514\n(volume, car)                                                  NaN\n(volume, pt)                                                   NaN\nName: 53982, dtype: object"
     },
     "execution_count": 5,
     "metadata": {},
     "output_type": "execute_result"
    }
   ],
   "source": [
    "sm_gdl.road_links.loc[53982]"
   ],
   "metadata": {
    "collapsed": false,
    "pycharm": {
     "name": "#%%\n"
    }
   }
  },
  {
   "cell_type": "code",
   "execution_count": 6,
   "outputs": [],
   "source": [
    "links = sm_gdl.links\n",
    "links = sm_gdl.links.loc[sm_gdl.links['volume'] > 0]\n",
    "links['label'] = ''"
   ],
   "metadata": {
    "collapsed": false,
    "pycharm": {
     "name": "#%%\n"
    }
   }
  },
  {
   "cell_type": "code",
   "execution_count": 7,
   "outputs": [
    {
     "data": {
      "text/plain": "30321.439613117167"
     },
     "execution_count": 7,
     "metadata": {},
     "output_type": "execute_result"
    }
   ],
   "source": [
    "### Inspeccion de la capacidad maxima de volumen por links\n",
    "links['volume'].max()"
   ],
   "metadata": {
    "collapsed": false,
    "pycharm": {
     "name": "#%%\n"
    }
   }
  },
  {
   "cell_type": "code",
   "execution_count": 8,
   "outputs": [],
   "source": [
    "sm_gdl.road_links['volume'] = sm_gdl.road_links[('volume', 'pt')]\n",
    "\n",
    "df = sm_gdl.links\n",
    "df = df.loc[df['volume'] > 0] # toma solo los links que tienen un flujo mayor a cero\n",
    "\n",
    "### IMPORTANTE: aqui lo que hace es que toma el DF que contiene el flujo por links"
   ],
   "metadata": {
    "collapsed": false,
    "pycharm": {
     "name": "#%%\n"
    }
   }
  },
  {
   "cell_type": "code",
   "execution_count": 66,
   "outputs": [
    {
     "data": {
      "text/plain": "<Figure size 1224x1080 with 1 Axes>",
      "image/png": "[encoded data removed]"
     },
     "metadata": {},
     "output_type": "display_data"
    },
    {
     "data": {
      "text/plain": "<Figure size 1224x1080 with 1 Axes>",
      "image/png": "[encoded data removed]"
     },
     "metadata": {},
     "output_type": "display_data"
    }
   ],
   "source": [
    "if manual:\n",
    "    import matplotlib.pyplot as plt\n",
    "    from syspy.syspy_utils import data_visualization as dv\n",
    "    spectral = list(reversed(\n",
    "        ['#9e0142','#d53e4f','#f46d43','#fdae61','#fee08b',\n",
    "         '#e6f598','#abdda4','#66c2a5','#3288bd','#5e4fa2']))\n",
    "\n",
    "\n",
    "### Esto es la gráfica de asignación de viajes en auto a la red vial\n",
    "    fig, ax = plt.subplots(figsize=[17, 15])\n",
    "    lv = (5000,3000, 2000, 1000)\n",
    "    df = sm_gdl.road_links\n",
    "    df['volume'] = df[('volume', 'car')]\n",
    "    df = df.dropna(subset=['volume'])\n",
    "\n",
    "    plot = dv.bandwidth(\n",
    "        df, value_column='volume', power=0.5, max_value=lv[0], legend_values=lv,\n",
    "        legend_length=0.5, label_column='label', max_linewidth_meters=100,\n",
    "        cmap=spectral,\n",
    "        label_kwargs={'size':14, 'color':'black'}, ax=ax\n",
    "    )\n",
    "\n",
    "\n",
    "\n",
    "#### Esto es la asginación a la red de transport público\n",
    "    lv = (18000,12000,10000, 7000,5000, 2000, 1000)   # esto son la categorizacion del color\n",
    "    fig, ax = plt.subplots(figsize=[17, 15])\n",
    "    infra_links = sm_gdl.links.loc[sm_gdl.links.road_length.isnull()]\n",
    "\n",
    "    sm_gdl.road_links['volume'] = sm_gdl.road_links[('volume', 'pt')]\n",
    "    df = pd.concat([infra_links, sm_gdl.road_links])\n",
    "    df['volume'] = df['volume'].fillna(0)\n",
    "    df = df.loc[df['volume'] > 0]\n",
    "\n",
    "    plot = dv.bandwidth(\n",
    "        df, value_column='volume', power=0.5, max_value=lv[0],legend_values=lv,\n",
    "        legend_length=0.5, label_column='label', max_linewidth_meters=200,\n",
    "        #geographical_bounds=list(raster_montreal.bounds),\n",
    "        cmap=spectral,\n",
    "        label_kwargs={'size':14, 'color':'black'}, ax=ax\n",
    "    )\n"
   ],
   "metadata": {
    "collapsed": false,
    "pycharm": {
     "name": "#%%\n"
    }
   }
  },
  {
   "cell_type": "markdown",
   "source": [
    "##### Visualización del DF con los  volumenes de viajes por link"
   ],
   "metadata": {
    "collapsed": false
   }
  },
  {
   "cell_type": "code",
   "execution_count": 9,
   "outputs": [
    {
     "data": {
      "text/plain": "   index           a           b   length  \\\n0      0  6347554816  1639281613   46.602   \n1      1  6347554816  6347554804   43.200   \n2      2  6347554816  6347554799  113.432   \n3      3  6347554817  6347554804   57.049   \n4      4  6347554817  1643880278  153.992   \n\n                                            geometry       time  walk_time  \\\n0  LINESTRING (-11495824.754 2348897.003, -114958...   6.260444  18.781332   \n1  LINESTRING (-11495824.754 2348897.003, -114958...   5.803424  17.410273   \n2  LINESTRING (-11495824.754 2348897.003, -114957...  15.238288  45.714863   \n3  LINESTRING (-11495897.234 2348871.309, -114958...   7.663879  22.991636   \n4  LINESTRING (-11495897.234 2348871.309, -114960...  20.687058  62.061175   \n\n   (volume, car)  (volume, pt)  volume  \n0            NaN           NaN     NaN  \n1            NaN           NaN     NaN  \n2            NaN           NaN     NaN  \n3            NaN           NaN     NaN  \n4            NaN           NaN     NaN  ",
      "text/html": "<div>\n<style scoped>\n    .dataframe tbody tr th:only-of-type {\n        vertical-align: middle;\n    }\n\n    .dataframe tbody tr th {\n        vertical-align: top;\n    }\n\n    .dataframe thead th {\n        text-align: right;\n    }\n</style>\n<table border=\"1\" class=\"dataframe\">\n  <thead>\n    <tr style=\"text-align: right;\">\n      <th></th>\n      <th>index</th>\n      <th>a</th>\n      <th>b</th>\n      <th>length</th>\n      <th>geometry</th>\n      <th>time</th>\n      <th>walk_time</th>\n      <th>(volume, car)</th>\n      <th>(volume, pt)</th>\n      <th>volume</th>\n    </tr>\n  </thead>\n  <tbody>\n    <tr>\n      <th>0</th>\n      <td>0</td>\n      <td>6347554816</td>\n      <td>1639281613</td>\n      <td>46.602</td>\n      <td>LINESTRING (-11495824.754 2348897.003, -114958...</td>\n      <td>6.260444</td>\n      <td>18.781332</td>\n      <td>NaN</td>\n      <td>NaN</td>\n      <td>NaN</td>\n    </tr>\n    <tr>\n      <th>1</th>\n      <td>1</td>\n      <td>6347554816</td>\n      <td>6347554804</td>\n      <td>43.200</td>\n      <td>LINESTRING (-11495824.754 2348897.003, -114958...</td>\n      <td>5.803424</td>\n      <td>17.410273</td>\n      <td>NaN</td>\n      <td>NaN</td>\n      <td>NaN</td>\n    </tr>\n    <tr>\n      <th>2</th>\n      <td>2</td>\n      <td>6347554816</td>\n      <td>6347554799</td>\n      <td>113.432</td>\n      <td>LINESTRING (-11495824.754 2348897.003, -114957...</td>\n      <td>15.238288</td>\n      <td>45.714863</td>\n      <td>NaN</td>\n      <td>NaN</td>\n      <td>NaN</td>\n    </tr>\n    <tr>\n      <th>3</th>\n      <td>3</td>\n      <td>6347554817</td>\n      <td>6347554804</td>\n      <td>57.049</td>\n      <td>LINESTRING (-11495897.234 2348871.309, -114958...</td>\n      <td>7.663879</td>\n      <td>22.991636</td>\n      <td>NaN</td>\n      <td>NaN</td>\n      <td>NaN</td>\n    </tr>\n    <tr>\n      <th>4</th>\n      <td>4</td>\n      <td>6347554817</td>\n      <td>1643880278</td>\n      <td>153.992</td>\n      <td>LINESTRING (-11495897.234 2348871.309, -114960...</td>\n      <td>20.687058</td>\n      <td>62.061175</td>\n      <td>NaN</td>\n      <td>NaN</td>\n      <td>NaN</td>\n    </tr>\n  </tbody>\n</table>\n</div>"
     },
     "execution_count": 9,
     "metadata": {},
     "output_type": "execute_result"
    }
   ],
   "source": [
    "## Road_ links contiene los volumenes de viaje por tipo de modalidad en cada link\n",
    "sm_gdl.road_links.head()"
   ],
   "metadata": {
    "collapsed": false,
    "pycharm": {
     "name": "#%%\n"
    }
   }
  },
  {
   "cell_type": "markdown",
   "source": [
    "##### Visualización del DF de links"
   ],
   "metadata": {
    "collapsed": false
   }
  },
  {
   "cell_type": "code",
   "execution_count": 10,
   "outputs": [
    {
     "data": {
      "text/plain": "        index    a          trip_id  link_sequence  departure_time    b  \\\nlink_0      0   28  BUSES_GDL001001              1            62.0   28   \nlink_1      1   28  BUSES_GDL001001              2           124.0   28   \nlink_2      2   28  BUSES_GDL001001              3           186.0  130   \nlink_3      3  130  BUSES_GDL001001              4           248.0  130   \nlink_4      4  130  BUSES_GDL001001              5           310.0  130   \n\n        arrival_time  time      route_id  direction_id  ...  \\\nlink_0         124.0  62.0  BUSES_GDL001             1  ...   \nlink_1         186.0  62.0  BUSES_GDL001             1  ...   \nlink_2         248.0  62.0  BUSES_GDL001             1  ...   \nlink_3         310.0  62.0  BUSES_GDL001             1  ...   \nlink_4         372.0  62.0  BUSES_GDL001             1  ...   \n\n                                           road_node_list  \\\nlink_0  [1920779980, 2129996075, 2339995706, 298824068...   \nlink_1  [2988240678, 1993270560, 1870646419, 199327992...   \nlink_2  [1993279920, 6542850229, 7313230932, 187064638...   \nlink_3  [4712038824, 8386341496, 6135406360, 613540635...   \nlink_4  [3670859704, 3670859632, 1993047919, 471203882...   \n\n                                           road_link_list road_length  \\\nlink_0      [54742, 84554, 110820, 66929, 457806, 342280]     487.318   \nlink_1                   [457805, 209333, 273654, 218961]     326.371   \nlink_2  [218953, 284459, 219980, 273613, 282918, 45684...    1560.435   \nlink_3  [954, 456842, 456839, 208146, 478684, 371728, ...     822.072   \nlink_4  [61465, 200712, 287613, 966, 968, 977, 428140,...    1343.229   \n\n                                                 geometry disaggregated_a  \\\nlink_0  LINESTRING (-11519018.893 2367943.302, -115191...    node_1000000   \nlink_1  LINESTRING (-11519015.955 2367605.476, -115190...    node_1001089   \nlink_2  LINESTRING (-11519038.063 2367275.991, -115190...    node_1001200   \nlink_3  LINESTRING (-11518533.062 2366715.024, -115186...    node_1001306   \nlink_4  LINESTRING (-11518231.052 2366475.870, -115185...    node_1001417   \n\n       disaggregated_b headway    length       volume    boardings  \nlink_0    node_1001089     180   487.318          NaN          NaN  \nlink_1    node_1001200     180   326.371          NaN          NaN  \nlink_2    node_1001306     180  1560.435  3477.474358  3477.474358  \nlink_3    node_1001417     180   822.072          NaN          NaN  \nlink_4    node_1001526     180  1343.229          NaN          NaN  \n\n[5 rows x 30 columns]",
      "text/html": "<div>\n<style scoped>\n    .dataframe tbody tr th:only-of-type {\n        vertical-align: middle;\n    }\n\n    .dataframe tbody tr th {\n        vertical-align: top;\n    }\n\n    .dataframe thead th {\n        text-align: right;\n    }\n</style>\n<table border=\"1\" class=\"dataframe\">\n  <thead>\n    <tr style=\"text-align: right;\">\n      <th></th>\n      <th>index</th>\n      <th>a</th>\n      <th>trip_id</th>\n      <th>link_sequence</th>\n      <th>departure_time</th>\n      <th>b</th>\n      <th>arrival_time</th>\n      <th>time</th>\n      <th>route_id</th>\n      <th>direction_id</th>\n      <th>...</th>\n      <th>road_node_list</th>\n      <th>road_link_list</th>\n      <th>road_length</th>\n      <th>geometry</th>\n      <th>disaggregated_a</th>\n      <th>disaggregated_b</th>\n      <th>headway</th>\n      <th>length</th>\n      <th>volume</th>\n      <th>boardings</th>\n    </tr>\n  </thead>\n  <tbody>\n    <tr>\n      <th>link_0</th>\n      <td>0</td>\n      <td>28</td>\n      <td>BUSES_GDL001001</td>\n      <td>1</td>\n      <td>62.0</td>\n      <td>28</td>\n      <td>124.0</td>\n      <td>62.0</td>\n      <td>BUSES_GDL001</td>\n      <td>1</td>\n      <td>...</td>\n      <td>[1920779980, 2129996075, 2339995706, 298824068...</td>\n      <td>[54742, 84554, 110820, 66929, 457806, 342280]</td>\n      <td>487.318</td>\n      <td>LINESTRING (-11519018.893 2367943.302, -115191...</td>\n      <td>node_1000000</td>\n      <td>node_1001089</td>\n      <td>180</td>\n      <td>487.318</td>\n      <td>NaN</td>\n      <td>NaN</td>\n    </tr>\n    <tr>\n      <th>link_1</th>\n      <td>1</td>\n      <td>28</td>\n      <td>BUSES_GDL001001</td>\n      <td>2</td>\n      <td>124.0</td>\n      <td>28</td>\n      <td>186.0</td>\n      <td>62.0</td>\n      <td>BUSES_GDL001</td>\n      <td>1</td>\n      <td>...</td>\n      <td>[2988240678, 1993270560, 1870646419, 199327992...</td>\n      <td>[457805, 209333, 273654, 218961]</td>\n      <td>326.371</td>\n      <td>LINESTRING (-11519015.955 2367605.476, -115190...</td>\n      <td>node_1001089</td>\n      <td>node_1001200</td>\n      <td>180</td>\n      <td>326.371</td>\n      <td>NaN</td>\n      <td>NaN</td>\n    </tr>\n    <tr>\n      <th>link_2</th>\n      <td>2</td>\n      <td>28</td>\n      <td>BUSES_GDL001001</td>\n      <td>3</td>\n      <td>186.0</td>\n      <td>130</td>\n      <td>248.0</td>\n      <td>62.0</td>\n      <td>BUSES_GDL001</td>\n      <td>1</td>\n      <td>...</td>\n      <td>[1993279920, 6542850229, 7313230932, 187064638...</td>\n      <td>[218953, 284459, 219980, 273613, 282918, 45684...</td>\n      <td>1560.435</td>\n      <td>LINESTRING (-11519038.063 2367275.991, -115190...</td>\n      <td>node_1001200</td>\n      <td>node_1001306</td>\n      <td>180</td>\n      <td>1560.435</td>\n      <td>3477.474358</td>\n      <td>3477.474358</td>\n    </tr>\n    <tr>\n      <th>link_3</th>\n      <td>3</td>\n      <td>130</td>\n      <td>BUSES_GDL001001</td>\n      <td>4</td>\n      <td>248.0</td>\n      <td>130</td>\n      <td>310.0</td>\n      <td>62.0</td>\n      <td>BUSES_GDL001</td>\n      <td>1</td>\n      <td>...</td>\n      <td>[4712038824, 8386341496, 6135406360, 613540635...</td>\n      <td>[954, 456842, 456839, 208146, 478684, 371728, ...</td>\n      <td>822.072</td>\n      <td>LINESTRING (-11518533.062 2366715.024, -115186...</td>\n      <td>node_1001306</td>\n      <td>node_1001417</td>\n      <td>180</td>\n      <td>822.072</td>\n      <td>NaN</td>\n      <td>NaN</td>\n    </tr>\n    <tr>\n      <th>link_4</th>\n      <td>4</td>\n      <td>130</td>\n      <td>BUSES_GDL001001</td>\n      <td>5</td>\n      <td>310.0</td>\n      <td>130</td>\n      <td>372.0</td>\n      <td>62.0</td>\n      <td>BUSES_GDL001</td>\n      <td>1</td>\n      <td>...</td>\n      <td>[3670859704, 3670859632, 1993047919, 471203882...</td>\n      <td>[61465, 200712, 287613, 966, 968, 977, 428140,...</td>\n      <td>1343.229</td>\n      <td>LINESTRING (-11518231.052 2366475.870, -115185...</td>\n      <td>node_1001417</td>\n      <td>node_1001526</td>\n      <td>180</td>\n      <td>1343.229</td>\n      <td>NaN</td>\n      <td>NaN</td>\n    </tr>\n  </tbody>\n</table>\n<p>5 rows × 30 columns</p>\n</div>"
     },
     "execution_count": 10,
     "metadata": {},
     "output_type": "execute_result"
    }
   ],
   "source": [
    "# dentro de Links se encuentra la frecuencia de cada link para todos los viajes  y tambien se encuinetra a que ruta corresponde cada link en particular\n",
    "sm_gdl.links.head()"
   ],
   "metadata": {
    "collapsed": false,
    "pycharm": {
     "name": "#%%\n"
    }
   }
  },
  {
   "cell_type": "code",
   "execution_count": 11,
   "outputs": [
    {
     "data": {
      "text/plain": "6411244.5464611435"
     },
     "execution_count": 11,
     "metadata": {},
     "output_type": "execute_result"
    }
   ],
   "source": [
    "sm_gdl.links.volume.sum() # 6 millones"
   ],
   "metadata": {
    "collapsed": false,
    "pycharm": {
     "name": "#%%\n"
    }
   }
  },
  {
   "cell_type": "code",
   "execution_count": 12,
   "outputs": [],
   "source": [
    "########## PRIMERA APARICION DE VOLUMEN_ROUTE\n",
    "### Sumatoria agregada con las columnas Route ID y volumen\n",
    "volumen_route = sm_gdl.links.groupby(['route_id'])[\"volume\"].apply(lambda x : x.astype(float).sum())"
   ],
   "metadata": {
    "collapsed": false,
    "pycharm": {
     "name": "#%%\n"
    }
   }
  },
  {
   "cell_type": "code",
   "execution_count": 13,
   "outputs": [],
   "source": [
    "# Convertirlo a DF\n",
    "volumen_route= volumen_route.to_frame()"
   ],
   "metadata": {
    "collapsed": false,
    "pycharm": {
     "name": "#%%\n"
    }
   }
  },
  {
   "cell_type": "code",
   "execution_count": 14,
   "outputs": [],
   "source": [
    "# generar la columna del route ID\n",
    "volumen_route['Route'] = volumen_route.index"
   ],
   "metadata": {
    "collapsed": false,
    "pycharm": {
     "name": "#%%\n"
    }
   }
  },
  {
   "cell_type": "code",
   "execution_count": 15,
   "outputs": [
    {
     "data": {
      "text/plain": "6411244.546461145"
     },
     "execution_count": 15,
     "metadata": {},
     "output_type": "execute_result"
    }
   ],
   "source": [
    "volumen_route.volume.sum() # Duda para quentin, esto es el totla de viajes a lo largo de todo el DIA?"
   ],
   "metadata": {
    "collapsed": false,
    "pycharm": {
     "name": "#%%\n"
    }
   }
  },
  {
   "cell_type": "markdown",
   "source": [
    "##### Visualizacion del DF de volumenes por ruta"
   ],
   "metadata": {
    "collapsed": false
   }
  },
  {
   "cell_type": "code",
   "execution_count": 16,
   "outputs": [
    {
     "data": {
      "text/plain": "                     volume         Route\nroute_id                                 \nBUSES_GDL001  105122.177333  BUSES_GDL001\nBUSES_GDL002  232666.482138  BUSES_GDL002\nBUSES_GDL003  101309.278027  BUSES_GDL003\nBUSES_GDL004  113206.900892  BUSES_GDL004\nBUSES_GDL005   81824.013920  BUSES_GDL005",
      "text/html": "<div>\n<style scoped>\n    .dataframe tbody tr th:only-of-type {\n        vertical-align: middle;\n    }\n\n    .dataframe tbody tr th {\n        vertical-align: top;\n    }\n\n    .dataframe thead th {\n        text-align: right;\n    }\n</style>\n<table border=\"1\" class=\"dataframe\">\n  <thead>\n    <tr style=\"text-align: right;\">\n      <th></th>\n      <th>volume</th>\n      <th>Route</th>\n    </tr>\n    <tr>\n      <th>route_id</th>\n      <th></th>\n      <th></th>\n    </tr>\n  </thead>\n  <tbody>\n    <tr>\n      <th>BUSES_GDL001</th>\n      <td>105122.177333</td>\n      <td>BUSES_GDL001</td>\n    </tr>\n    <tr>\n      <th>BUSES_GDL002</th>\n      <td>232666.482138</td>\n      <td>BUSES_GDL002</td>\n    </tr>\n    <tr>\n      <th>BUSES_GDL003</th>\n      <td>101309.278027</td>\n      <td>BUSES_GDL003</td>\n    </tr>\n    <tr>\n      <th>BUSES_GDL004</th>\n      <td>113206.900892</td>\n      <td>BUSES_GDL004</td>\n    </tr>\n    <tr>\n      <th>BUSES_GDL005</th>\n      <td>81824.013920</td>\n      <td>BUSES_GDL005</td>\n    </tr>\n  </tbody>\n</table>\n</div>"
     },
     "execution_count": 16,
     "metadata": {},
     "output_type": "execute_result"
    }
   ],
   "source": [
    "volumen_route.head()"
   ],
   "metadata": {
    "collapsed": false,
    "pycharm": {
     "name": "#%%\n"
    }
   }
  },
  {
   "cell_type": "markdown",
   "source": [
    "####  Resumen de métricas en el TP"
   ],
   "metadata": {
    "collapsed": false
   }
  },
  {
   "cell_type": "code",
   "execution_count": 17,
   "outputs": [],
   "source": [
    "import sys\n",
    "from quetzal.model import stepmodel\n",
    "import numpy as np\n",
    "import pandas as pd\n",
    "import geopandas as gpd\n",
    "from rasterio import plot\n",
    "import rasterio\n",
    "from shapely import geometry\n",
    "# import visualization\n",
    "\n",
    "\n",
    "from syspy.skims import skims\n",
    "from quetzal.io import excel\n",
    "\n",
    "manual, scenario = (True, 'base') if 'ipykernel' in sys.argv[0] else (False, sys.argv[1])\n"
   ],
   "metadata": {
    "collapsed": false,
    "pycharm": {
     "name": "#%%\n"
    }
   }
  },
  {
   "cell_type": "code",
   "execution_count": 18,
   "outputs": [
    {
     "data": {
      "text/plain": "category  parameter        \ngeneral   parent               base\n          bus_speed_factor      0.8\n          boarding_cost_acf     300\n          boarding_cost_wor     300\n          routes_code          base\nName: base, dtype: object"
     },
     "execution_count": 18,
     "metadata": {},
     "output_type": "execute_result"
    }
   ],
   "source": [
    "var= excel.read_var( file= 'C:/Users/orlan/Documents/UPC/PhD/Papers/Paper 4/Modelo de Demanda GDL/Data/inputs/parameters_gdl_paris.xlsx')\n",
    "var.head()"
   ],
   "metadata": {
    "collapsed": false,
    "pycharm": {
     "name": "#%%\n"
    }
   }
  },
  {
   "cell_type": "code",
   "execution_count": 19,
   "outputs": [
    {
     "data": {
      "text/plain": "Index(['index', 'a', 'trip_id', 'link_sequence', 'departure_time', 'b',\n       'arrival_time', 'time', 'route_id', 'direction_id', 'service_id',\n       'trip_headsign', 'trip_short_name', 'shape_id', 'agency_id',\n       'route_short_name', 'route_long_name', 'route_type', 'road_a', 'road_b',\n       'road_node_list', 'road_link_list', 'road_length', 'geometry',\n       'disaggregated_a', 'disaggregated_b', 'headway', 'length', 'volume',\n       'boardings'],\n      dtype='object')"
     },
     "execution_count": 19,
     "metadata": {},
     "output_type": "execute_result"
    }
   ],
   "source": [
    "# Visualizacion de las columnas del DF links\n",
    "sm_gdl.links.columns\n"
   ],
   "metadata": {
    "collapsed": false,
    "pycharm": {
     "name": "#%%\n"
    }
   }
  },
  {
   "cell_type": "code",
   "execution_count": 20,
   "outputs": [
    {
     "data": {
      "text/plain": "link_0       bus\nlink_1       bus\nlink_2       bus\nlink_3       bus\nlink_4       bus\n            ... \nlink_4583    bus\nlink_4584    bus\nlink_4585    bus\nlink_4586    bus\nlink_4587    bus\nName: route_type, Length: 4588, dtype: object"
     },
     "execution_count": 20,
     "metadata": {},
     "output_type": "execute_result"
    }
   ],
   "source": [
    "# Visualizacion del tipo de modos en TP (recordar que el DF de links es solo para TP)\n",
    "sm_gdl.links['route_type']\n"
   ],
   "metadata": {
    "collapsed": false,
    "pycharm": {
     "name": "#%%\n"
    }
   }
  },
  {
   "cell_type": "code",
   "execution_count": 21,
   "outputs": [],
   "source": [
    "try:\n",
    "    sm_gdl.links['mode'] = sm_gdl.links['mode_' + var['general']['routes_code']] #verify\n",
    "except KeyError:\n",
    "    sm_gdl.links['mode'] = sm_gdl.links['route_type']\n",
    "\n",
    "from syspy.assignment.raw import fast_assign as assign\n",
    "rl = sm_gdl.road_links[['length']]\n",
    "modes = list(set(sm_gdl.links['mode']))\n",
    "\n",
    "for mode in modes:\n",
    "    l = sm_gdl.links.loc[sm_gdl.links['mode'] == mode].copy()\n",
    "    l['dummy'] = 1\n",
    "    rl[mode] = np.clip(assign(l['dummy'], l['road_link_list']), 0, 1)\n",
    "    rl[mode] = rl[mode] * rl['length']\n",
    "\n",
    "routes = list(set(sm_gdl.links['route_id']))\n",
    "for route in routes:\n",
    "    l = sm_gdl.links.loc[sm_gdl.links['route_id'] == route].copy()\n",
    "    l['dummy'] = 1\n",
    "    rl[route] = np.clip(assign(l['dummy'], l['road_link_list']), 0, 1)\n",
    "    rl[route] = rl[route] * rl['length']\n",
    "\n",
    "route_sum = rl[routes].sum() ## Que indica esto ?\n",
    "mode_sum = rl[modes].sum()   ## Que indica esto?\n"
   ],
   "metadata": {
    "collapsed": false,
    "pycharm": {
     "name": "#%%\n"
    }
   }
  },
  {
   "cell_type": "markdown",
   "source": [
    "### Stacks"
   ],
   "metadata": {
    "collapsed": false
   }
  },
  {
   "cell_type": "code",
   "execution_count": 22,
   "outputs": [],
   "source": [
    "model_to_day = var['post_parameters']['model_to_day']\n",
    "model_duration = var['post_parameters']['model_duration'] # hour (supongo que se refiere solo a la hora pico, dado que el valor en el DF de parametes es 1)\n",
    "vehicle_disponibility = var['post_parameters']['vehicle_disponibility']\n",
    "mobility_rate = var['post_parameters']['mobility_rate']\n",
    "vehicle_capacities = var['vehicle_capacities'].to_dict()"
   ],
   "metadata": {
    "collapsed": false,
    "pycharm": {
     "name": "#%%\n"
    }
   }
  },
  {
   "cell_type": "code",
   "execution_count": 23,
   "outputs": [],
   "source": [
    "sm_gdl.links['per_hour'] = 3600 / sm_gdl.links['headway']  # estos SON LOS vehiculos por hora que pasan por detemrinado link\n",
    "sm_gdl.links['vehicle_capacity'] = sm_gdl.links['mode'].apply(vehicle_capacities.get)  # aqui une las capacidades de vehiculos al DF de links\n",
    "sm_gdl.links['capacity'] = (sm_gdl.links['vehicle_capacity'] * sm_gdl.links['per_hour']).astype(int)  # IMPORANTE: aqui lo que hace es que le asgina al LINk una capacidad, dado la frecuencia de paso de vehiculos por hora y la capacidad de los vehiculos"
   ],
   "metadata": {
    "collapsed": false,
    "pycharm": {
     "name": "#%%\n"
    }
   }
  },
  {
   "cell_type": "code",
   "execution_count": 24,
   "outputs": [],
   "source": [
    "sm_gdl.links['vehicles'] = sm_gdl.links['time'] / sm_gdl.links['headway']  # Cantidad de vehiculos que pasan por link por hora\n",
    "sm_gdl.links['km'] = sm_gdl.links['length'] / 1000  # Distancia en km\n",
    "\n",
    "sm_gdl.links['pt'] = sm_gdl.links.volume"
   ],
   "metadata": {
    "collapsed": false,
    "pycharm": {
     "name": "#%%\n"
    }
   }
  },
  {
   "cell_type": "code",
   "execution_count": 25,
   "outputs": [],
   "source": [
    "sm_gdl.links['vehicle_km'] = model_duration * sm_gdl.links['per_hour'] * sm_gdl.links['km'] # esto son la cantidad de kilometros que recorre las rutas en cada link por hora  (esto podria servir para hacer estimaciones de emisiones por zona)\n",
    "\n",
    "sm_gdl.links['seat_km'] = model_duration * sm_gdl.links['per_hour'] * sm_gdl.links['km']* sm_gdl.links['capacity']\n",
    "sm_gdl.links['voy_km'] = model_duration * sm_gdl.links['per_hour'] * sm_gdl.links['km']* sm_gdl.links['volume']"
   ],
   "metadata": {
    "collapsed": false,
    "pycharm": {
     "name": "#%%\n"
    }
   }
  },
  {
   "cell_type": "code",
   "execution_count": 26,
   "outputs": [],
   "source": [
    "summary = sm_gdl.links.groupby(['route_id']).agg(\n",
    "    {\n",
    "        'boardings': 'sum',\n",
    "        'pt': 'max',\n",
    "        'vehicles': 'sum',\n",
    "        'length': 'sum',\n",
    "        'time': 'sum',\n",
    "        'vehicle_km': 'sum',\n",
    "        'seat_km': 'sum',\n",
    "        'voy_km': 'sum',\n",
    "        'headway': 'max',\n",
    "        'capacity': 'max',\n",
    "        'mode': 'first',\n",
    "\n",
    "    }\n",
    ")\n",
    "sm_gdl.stack_routes = summary.stack()\n"
   ],
   "metadata": {
    "collapsed": false,
    "pycharm": {
     "name": "#%%\n"
    }
   }
  },
  {
   "cell_type": "markdown",
   "source": [
    "##### Visualizacion del nuevo DF, resumen de caracteristicas de las rutas"
   ],
   "metadata": {
    "collapsed": false
   }
  },
  {
   "cell_type": "code",
   "execution_count": 27,
   "outputs": [
    {
     "data": {
      "text/plain": "                 boardings            pt   vehicles     length    time  \\\nroute_id                                                                 \nBUSES_GDL001  78614.303968   6604.888551  52.355556  71944.758  9424.0   \nBUSES_GDL002  95875.072294  11216.526637  37.200000  55800.746  6696.0   \nBUSES_GDL003  39611.877389   5275.548946  38.577778  63325.790  6944.0   \nBUSES_GDL004  48901.925827  11051.464710  26.177778  35284.331  4712.0   \nBUSES_GDL005  43399.217867   7256.655311  44.777778  59659.236  8060.0   \n\n              vehicle_km      seat_km        voy_km  headway  capacity mode  \nroute_id                                                                     \nBUSES_GDL001  1438.89516  3021679.836  1.210989e+06      180      2100  bus  \nBUSES_GDL002  1116.01492  2343631.332  3.070902e+06      180      2100  bus  \nBUSES_GDL003  1266.51580  2659683.180  1.416119e+06      180      2100  bus  \nBUSES_GDL004   705.68662  1481941.902  1.818178e+06      180      2100  bus  \nBUSES_GDL005  1193.18472  2505687.912  9.946018e+05      180      2100  bus  ",
      "text/html": "<div>\n<style scoped>\n    .dataframe tbody tr th:only-of-type {\n        vertical-align: middle;\n    }\n\n    .dataframe tbody tr th {\n        vertical-align: top;\n    }\n\n    .dataframe thead th {\n        text-align: right;\n    }\n</style>\n<table border=\"1\" class=\"dataframe\">\n  <thead>\n    <tr style=\"text-align: right;\">\n      <th></th>\n      <th>boardings</th>\n      <th>pt</th>\n      <th>vehicles</th>\n      <th>length</th>\n      <th>time</th>\n      <th>vehicle_km</th>\n      <th>seat_km</th>\n      <th>voy_km</th>\n      <th>headway</th>\n      <th>capacity</th>\n      <th>mode</th>\n    </tr>\n    <tr>\n      <th>route_id</th>\n      <th></th>\n      <th></th>\n      <th></th>\n      <th></th>\n      <th></th>\n      <th></th>\n      <th></th>\n      <th></th>\n      <th></th>\n      <th></th>\n      <th></th>\n    </tr>\n  </thead>\n  <tbody>\n    <tr>\n      <th>BUSES_GDL001</th>\n      <td>78614.303968</td>\n      <td>6604.888551</td>\n      <td>52.355556</td>\n      <td>71944.758</td>\n      <td>9424.0</td>\n      <td>1438.89516</td>\n      <td>3021679.836</td>\n      <td>1.210989e+06</td>\n      <td>180</td>\n      <td>2100</td>\n      <td>bus</td>\n    </tr>\n    <tr>\n      <th>BUSES_GDL002</th>\n      <td>95875.072294</td>\n      <td>11216.526637</td>\n      <td>37.200000</td>\n      <td>55800.746</td>\n      <td>6696.0</td>\n      <td>1116.01492</td>\n      <td>2343631.332</td>\n      <td>3.070902e+06</td>\n      <td>180</td>\n      <td>2100</td>\n      <td>bus</td>\n    </tr>\n    <tr>\n      <th>BUSES_GDL003</th>\n      <td>39611.877389</td>\n      <td>5275.548946</td>\n      <td>38.577778</td>\n      <td>63325.790</td>\n      <td>6944.0</td>\n      <td>1266.51580</td>\n      <td>2659683.180</td>\n      <td>1.416119e+06</td>\n      <td>180</td>\n      <td>2100</td>\n      <td>bus</td>\n    </tr>\n    <tr>\n      <th>BUSES_GDL004</th>\n      <td>48901.925827</td>\n      <td>11051.464710</td>\n      <td>26.177778</td>\n      <td>35284.331</td>\n      <td>4712.0</td>\n      <td>705.68662</td>\n      <td>1481941.902</td>\n      <td>1.818178e+06</td>\n      <td>180</td>\n      <td>2100</td>\n      <td>bus</td>\n    </tr>\n    <tr>\n      <th>BUSES_GDL005</th>\n      <td>43399.217867</td>\n      <td>7256.655311</td>\n      <td>44.777778</td>\n      <td>59659.236</td>\n      <td>8060.0</td>\n      <td>1193.18472</td>\n      <td>2505687.912</td>\n      <td>9.946018e+05</td>\n      <td>180</td>\n      <td>2100</td>\n      <td>bus</td>\n    </tr>\n  </tbody>\n</table>\n</div>"
     },
     "execution_count": 27,
     "metadata": {},
     "output_type": "execute_result"
    }
   ],
   "source": [
    "### ES POR HORA!\n",
    "summary.head()"
   ],
   "metadata": {
    "collapsed": false,
    "pycharm": {
     "name": "#%%\n"
    }
   }
  },
  {
   "cell_type": "code",
   "execution_count": 28,
   "outputs": [],
   "source": [
    "sm_gdl.stack_routes.index.names = ['route_id', 'indicator']\n",
    "sm_gdl.stack_routes.name = 'aggregated'"
   ],
   "metadata": {
    "collapsed": false,
    "pycharm": {
     "name": "#%%\n"
    }
   }
  },
  {
   "cell_type": "code",
   "execution_count": 29,
   "outputs": [],
   "source": [
    "lines = summary.copy()\n",
    "lines['design'] = lines['voy_km'] / (lines['seat_km'] * (lines['pt'] / lines['capacity']))\n",
    "lines['empty_seats'] = np.round(1 - lines['design'], 2)\n",
    "lines['boardings'] = np.round(summary['boardings'] * model_to_day, -3).astype(int)\n",
    "lines['vehicle_km'] = np.round(summary['vehicle_km']).astype(int) # la original lo tenia * model day que vale 5, por que lo quiere multiplicar por eso?, yo lo quite y represntará los KM recorridos por hora por todas las unidades de cada ruta\n",
    "        # lines['vehicle_km'] = np.round(summary['vehicle_km'] * model_to_day, -2).astype(int),   ES COMO ESTABA ORIGINAL\n",
    "lines['seat_km'] = np.round(summary['seat_km'] * model_to_day, -3).astype(int)\n",
    "lines['voy_km'] = np.round(summary['voy_km'] * model_to_day, -3).astype(int)\n",
    "lines['max_load'] = np.round(summary['pt'].fillna(0), -2).astype(int) # cantidad total de personas por hora en cada ruta redondeada hacia arriba\n",
    "lines['vehicles'] = np.floor(lines['vehicles'] / vehicle_disponibility).astype(int) + 1\n",
    "lines['minutes'] = np.round(lines['time'] / (2*60)).astype(int)  # Duracion de la ruta\n",
    "\n",
    "## IMPORTANTE: la columna de capacity indica la cantidad total de personal que pueden transitar por esa linea, esto se generar derivado de la cantidad de vehiculos que pasa por esa ruta y la capacidad de estos\n",
    "# Por otra parte, max load  es la cantidad TOTAL de personas que abordan una linea en particuar redondeada, su magnitud como se podrá observar es muy similar a pt simplemente que redonbdeada hacia arriba"
   ],
   "metadata": {
    "collapsed": false,
    "pycharm": {
     "name": "#%%\n"
    }
   }
  },
  {
   "cell_type": "code",
   "execution_count": 30,
   "outputs": [],
   "source": [
    "# Cálculo de las capacidades  y costos por unidad recorrida de cada linea (el costo por unidad recorrida esta vinculado casi exclusivamente a los gastos del energético que se use como propulsión, no toma en consideración la amortización de la compra de la unidad, salarios entre otros, es solo el costo opertaivo de las unidades necesarias para cada linea\n",
    "vehicle_capacities = var['vehicle_capacities']\n",
    "vehicle_capacities = int(vehicle_capacities) # hay que convertirla a int para poder usarla como constante en la multiplicacion para la capacidad\n",
    "\n",
    "\n",
    "####### REVISAR, ESTA INCORRECTO.ESTA ERA MI VERSSION\n",
    "#  lines['capacity'] =  lines['vehicles'] * vehicle_capacities   # capacidad real de la linea (pasajeros)\n",
    "\n",
    "# costo de operacion por hora (USD/hora)\n",
    "unit_distance_cost = var['post_parameters'] ['unit_distance_cost']\n",
    "lines['distance_cost'] =  lines['vehicle_km'] *  unit_distance_cost   # costo por operacion de la flotilla, solo aspecto energético (USD/hora)"
   ],
   "metadata": {
    "collapsed": false,
    "pycharm": {
     "name": "#%%\n"
    }
   }
  },
  {
   "cell_type": "code",
   "execution_count": 31,
   "outputs": [],
   "source": [
    "### Emisiones por operación (kg de CO2 /hora)\n",
    "emision_km = var['post_parameters'] ['emision_km']\n",
    "lines['emisions'] =  (lines['vehicle_km'] * emision_km) /1000 # emisiones de CO2 por hora de operacion de cada linea\n"
   ],
   "metadata": {
    "collapsed": false,
    "pycharm": {
     "name": "#%%\n"
    }
   }
  },
  {
   "cell_type": "code",
   "execution_count": 32,
   "outputs": [],
   "source": [
    "## Calculo de la saturacion por linea (si es igual o menor a 1 la linea aguanta bien, si es mayor a 1 hay un deficit de capacidad en la linea)\n",
    "lines['km'] = np.round(route_sum/ (2*1000)).astype(int) # esto es la longitud de cada linea\n",
    "lines['saturation'] = np.round( lines['max_load'] / lines['capacity'], 1 )\n",
    "# Saturación entre más peor, para que la capacidad de la línea sea la indicadqa el valor de saturation tiene que ser = 1. Mayor a esto es la cantidad de veces que está saturada la línea en relación a su capacidad total"
   ],
   "metadata": {
    "collapsed": false,
    "pycharm": {
     "name": "#%%\n"
    }
   }
  },
  {
   "cell_type": "markdown",
   "source": [
    "##### Abordajes completos ¿¿??"
   ],
   "metadata": {
    "collapsed": false,
    "pycharm": {
     "name": "#%% md\n"
    }
   }
  },
  {
   "cell_type": "code",
   "execution_count": 117,
   "outputs": [
    {
     "data": {
      "text/plain": "13877000"
     },
     "execution_count": 117,
     "metadata": {},
     "output_type": "execute_result"
    }
   ],
   "source": [
    "lines.boardings.sum()"
   ],
   "metadata": {
    "collapsed": false,
    "pycharm": {
     "name": "#%%\n"
    }
   }
  },
  {
   "cell_type": "markdown",
   "source": [
    "##### Emisiones totales de la red  (kg CO2/hora)"
   ],
   "metadata": {
    "collapsed": false,
    "pycharm": {
     "name": "#%% md\n"
    }
   }
  },
  {
   "cell_type": "code",
   "execution_count": 106,
   "outputs": [
    {
     "data": {
      "text/plain": "28399.409000000003"
     },
     "execution_count": 106,
     "metadata": {},
     "output_type": "execute_result"
    }
   ],
   "source": [
    "lines.emisions.sum()"
   ],
   "metadata": {
    "collapsed": false,
    "pycharm": {
     "name": "#%%\n"
    }
   }
  },
  {
   "cell_type": "markdown",
   "source": [
    "##### Costo de operación por hora de la red (USD/hora)"
   ],
   "metadata": {
    "collapsed": false,
    "pycharm": {
     "name": "#%% md\n"
    }
   }
  },
  {
   "cell_type": "code",
   "execution_count": 107,
   "outputs": [
    {
     "data": {
      "text/plain": "19974.114"
     },
     "execution_count": 107,
     "metadata": {},
     "output_type": "execute_result"
    }
   ],
   "source": [
    "lines.distance_cost.sum()"
   ],
   "metadata": {
    "collapsed": false,
    "pycharm": {
     "name": "#%%\n"
    }
   }
  },
  {
   "cell_type": "markdown",
   "source": [
    "##### Capacidad total de la red"
   ],
   "metadata": {
    "collapsed": false,
    "pycharm": {
     "name": "#%% md\n"
    }
   }
  },
  {
   "cell_type": "code",
   "execution_count": 108,
   "outputs": [
    {
     "data": {
      "text/plain": "81900"
     },
     "execution_count": 108,
     "metadata": {},
     "output_type": "execute_result"
    }
   ],
   "source": [
    "lines.capacity.sum()"
   ],
   "metadata": {
    "collapsed": false,
    "pycharm": {
     "name": "#%%\n"
    }
   }
  },
  {
   "cell_type": "markdown",
   "source": [
    "##### Visualización del nuevo DF LINES\n",
    "###### el DF de lines ahora contiene un resumen de una gran cantidad de datos referentes a la red de TP"
   ],
   "metadata": {
    "collapsed": false
   }
  },
  {
   "cell_type": "code",
   "execution_count": 58,
   "outputs": [
    {
     "data": {
      "text/plain": "              boardings            pt  vehicles     length    time  \\\nroute_id                                                             \nBUSES_GDL001     393000   6604.888551        66  71944.758  9424.0   \nBUSES_GDL002     479000  11216.526637        47  55800.746  6696.0   \nBUSES_GDL003     198000   5275.548946        49  63325.790  6944.0   \nBUSES_GDL004     245000  11051.464710        33  35284.331  4712.0   \nBUSES_GDL005     217000   7256.655311        56  59659.236  8060.0   \n\n              vehicle_km   seat_km    voy_km  headway  capacity mode  \\\nroute_id                                                               \nBUSES_GDL001        1439  15108000   6055000      180      6930  bus   \nBUSES_GDL002        1116  11718000  15355000      180      4935  bus   \nBUSES_GDL003        1267  13298000   7081000      180      5145  bus   \nBUSES_GDL004         706   7410000   9091000      180      3465  bus   \nBUSES_GDL005        1193  12528000   4973000      180      5880  bus   \n\n                design  empty_seats  max_load  minutes  alv  \nroute_id                                                     \nBUSES_GDL001  0.127422         0.87      6600       79  NaN  \nBUSES_GDL002  0.245323         0.75     11200       56  NaN  \nBUSES_GDL003  0.211944         0.79      5300       58  NaN  \nBUSES_GDL004  0.233134         0.77     11100       39  NaN  \nBUSES_GDL005  0.114870         0.89      7300       67  NaN  ",
      "text/html": "<div>\n<style scoped>\n    .dataframe tbody tr th:only-of-type {\n        vertical-align: middle;\n    }\n\n    .dataframe tbody tr th {\n        vertical-align: top;\n    }\n\n    .dataframe thead th {\n        text-align: right;\n    }\n</style>\n<table border=\"1\" class=\"dataframe\">\n  <thead>\n    <tr style=\"text-align: right;\">\n      <th></th>\n      <th>boardings</th>\n      <th>pt</th>\n      <th>vehicles</th>\n      <th>length</th>\n      <th>time</th>\n      <th>vehicle_km</th>\n      <th>seat_km</th>\n      <th>voy_km</th>\n      <th>headway</th>\n      <th>capacity</th>\n      <th>mode</th>\n      <th>design</th>\n      <th>empty_seats</th>\n      <th>max_load</th>\n      <th>minutes</th>\n      <th>alv</th>\n    </tr>\n    <tr>\n      <th>route_id</th>\n      <th></th>\n      <th></th>\n      <th></th>\n      <th></th>\n      <th></th>\n      <th></th>\n      <th></th>\n      <th></th>\n      <th></th>\n      <th></th>\n      <th></th>\n      <th></th>\n      <th></th>\n      <th></th>\n      <th></th>\n      <th></th>\n    </tr>\n  </thead>\n  <tbody>\n    <tr>\n      <th>BUSES_GDL001</th>\n      <td>393000</td>\n      <td>6604.888551</td>\n      <td>66</td>\n      <td>71944.758</td>\n      <td>9424.0</td>\n      <td>1439</td>\n      <td>15108000</td>\n      <td>6055000</td>\n      <td>180</td>\n      <td>6930</td>\n      <td>bus</td>\n      <td>0.127422</td>\n      <td>0.87</td>\n      <td>6600</td>\n      <td>79</td>\n      <td>NaN</td>\n    </tr>\n    <tr>\n      <th>BUSES_GDL002</th>\n      <td>479000</td>\n      <td>11216.526637</td>\n      <td>47</td>\n      <td>55800.746</td>\n      <td>6696.0</td>\n      <td>1116</td>\n      <td>11718000</td>\n      <td>15355000</td>\n      <td>180</td>\n      <td>4935</td>\n      <td>bus</td>\n      <td>0.245323</td>\n      <td>0.75</td>\n      <td>11200</td>\n      <td>56</td>\n      <td>NaN</td>\n    </tr>\n    <tr>\n      <th>BUSES_GDL003</th>\n      <td>198000</td>\n      <td>5275.548946</td>\n      <td>49</td>\n      <td>63325.790</td>\n      <td>6944.0</td>\n      <td>1267</td>\n      <td>13298000</td>\n      <td>7081000</td>\n      <td>180</td>\n      <td>5145</td>\n      <td>bus</td>\n      <td>0.211944</td>\n      <td>0.79</td>\n      <td>5300</td>\n      <td>58</td>\n      <td>NaN</td>\n    </tr>\n    <tr>\n      <th>BUSES_GDL004</th>\n      <td>245000</td>\n      <td>11051.464710</td>\n      <td>33</td>\n      <td>35284.331</td>\n      <td>4712.0</td>\n      <td>706</td>\n      <td>7410000</td>\n      <td>9091000</td>\n      <td>180</td>\n      <td>3465</td>\n      <td>bus</td>\n      <td>0.233134</td>\n      <td>0.77</td>\n      <td>11100</td>\n      <td>39</td>\n      <td>NaN</td>\n    </tr>\n    <tr>\n      <th>BUSES_GDL005</th>\n      <td>217000</td>\n      <td>7256.655311</td>\n      <td>56</td>\n      <td>59659.236</td>\n      <td>8060.0</td>\n      <td>1193</td>\n      <td>12528000</td>\n      <td>4973000</td>\n      <td>180</td>\n      <td>5880</td>\n      <td>bus</td>\n      <td>0.114870</td>\n      <td>0.89</td>\n      <td>7300</td>\n      <td>67</td>\n      <td>NaN</td>\n    </tr>\n  </tbody>\n</table>\n</div>"
     },
     "execution_count": 58,
     "metadata": {},
     "output_type": "execute_result"
    }
   ],
   "source": [
    "lines.head() # Gran parte de los datos esta representado para una hora de operacion de cad ruta\n",
    "# vehicules es el numero de unidades que se requiere por ruta, length es la longitud total en metros de recorrido en una por los vehiculos de esa ruta\n",
    "# time es el tiempo del recorrido de todas las unidades por una hora etc..."
   ],
   "metadata": {
    "collapsed": false,
    "pycharm": {
     "name": "#%%\n"
    }
   }
  },
  {
   "cell_type": "markdown",
   "source": [
    "##### Total de uniades de buses requeridas para la frecuencia y lineas totales propuestas\n",
    "###### Esto no significa que es el número final de buses requeridos, dado las capacidaddes su cnatidad y la demanda pueden que sean menos buses los requeridos o más"
   ],
   "metadata": {
    "collapsed": false
   }
  },
  {
   "cell_type": "code",
   "execution_count": 109,
   "outputs": [
    {
     "data": {
      "text/plain": "1992"
     },
     "execution_count": 109,
     "metadata": {},
     "output_type": "execute_result"
    }
   ],
   "source": [
    "lines.vehicles.sum()"
   ],
   "metadata": {
    "collapsed": false,
    "pycharm": {
     "name": "#%%\n"
    }
   }
  },
  {
   "cell_type": "markdown",
   "source": [
    "##### Km recorridos por toda la flota por hora"
   ],
   "metadata": {
    "collapsed": false,
    "pycharm": {
     "name": "#%% md\n"
    }
   }
  },
  {
   "cell_type": "code",
   "execution_count": 110,
   "outputs": [
    {
     "data": {
      "text/plain": "41099"
     },
     "execution_count": 110,
     "metadata": {},
     "output_type": "execute_result"
    }
   ],
   "source": [
    "lines.vehicle_km.sum()\n"
   ],
   "metadata": {
    "collapsed": false,
    "pycharm": {
     "name": "#%%\n"
    }
   }
  },
  {
   "cell_type": "markdown",
   "source": [
    "##### Visualización del DF LINES"
   ],
   "metadata": {
    "collapsed": false
   }
  },
  {
   "cell_type": "code",
   "execution_count": 62,
   "outputs": [
    {
     "data": {
      "text/plain": "              boardings            pt  vehicles     length    time  \\\nroute_id                                                             \nBUSES_GDL001     393000   6604.888551        66  71944.758  9424.0   \nBUSES_GDL002     479000  11216.526637        47  55800.746  6696.0   \nBUSES_GDL003     198000   5275.548946        49  63325.790  6944.0   \nBUSES_GDL004     245000  11051.464710        33  35284.331  4712.0   \nBUSES_GDL005     217000   7256.655311        56  59659.236  8060.0   \n\n              vehicle_km   seat_km    voy_km  headway  capacity mode  \\\nroute_id                                                               \nBUSES_GDL001        1439  15108000   6055000      180      6930  bus   \nBUSES_GDL002        1116  11718000  15355000      180      4935  bus   \nBUSES_GDL003        1267  13298000   7081000      180      5145  bus   \nBUSES_GDL004         706   7410000   9091000      180      3465  bus   \nBUSES_GDL005        1193  12528000   4973000      180      5880  bus   \n\n                design  empty_seats  max_load  minutes  alv  km  saturation  \nroute_id                                                                     \nBUSES_GDL001  0.127422         0.87      6600       79  NaN  32         1.0  \nBUSES_GDL002  0.245323         0.75     11200       56  NaN  27         2.3  \nBUSES_GDL003  0.211944         0.79      5300       58  NaN  30         1.0  \nBUSES_GDL004  0.233134         0.77     11100       39  NaN  16         3.2  \nBUSES_GDL005  0.114870         0.89      7300       67  NaN  27         1.2  ",
      "text/html": "<div>\n<style scoped>\n    .dataframe tbody tr th:only-of-type {\n        vertical-align: middle;\n    }\n\n    .dataframe tbody tr th {\n        vertical-align: top;\n    }\n\n    .dataframe thead th {\n        text-align: right;\n    }\n</style>\n<table border=\"1\" class=\"dataframe\">\n  <thead>\n    <tr style=\"text-align: right;\">\n      <th></th>\n      <th>boardings</th>\n      <th>pt</th>\n      <th>vehicles</th>\n      <th>length</th>\n      <th>time</th>\n      <th>vehicle_km</th>\n      <th>seat_km</th>\n      <th>voy_km</th>\n      <th>headway</th>\n      <th>capacity</th>\n      <th>mode</th>\n      <th>design</th>\n      <th>empty_seats</th>\n      <th>max_load</th>\n      <th>minutes</th>\n      <th>alv</th>\n      <th>km</th>\n      <th>saturation</th>\n    </tr>\n    <tr>\n      <th>route_id</th>\n      <th></th>\n      <th></th>\n      <th></th>\n      <th></th>\n      <th></th>\n      <th></th>\n      <th></th>\n      <th></th>\n      <th></th>\n      <th></th>\n      <th></th>\n      <th></th>\n      <th></th>\n      <th></th>\n      <th></th>\n      <th></th>\n      <th></th>\n      <th></th>\n    </tr>\n  </thead>\n  <tbody>\n    <tr>\n      <th>BUSES_GDL001</th>\n      <td>393000</td>\n      <td>6604.888551</td>\n      <td>66</td>\n      <td>71944.758</td>\n      <td>9424.0</td>\n      <td>1439</td>\n      <td>15108000</td>\n      <td>6055000</td>\n      <td>180</td>\n      <td>6930</td>\n      <td>bus</td>\n      <td>0.127422</td>\n      <td>0.87</td>\n      <td>6600</td>\n      <td>79</td>\n      <td>NaN</td>\n      <td>32</td>\n      <td>1.0</td>\n    </tr>\n    <tr>\n      <th>BUSES_GDL002</th>\n      <td>479000</td>\n      <td>11216.526637</td>\n      <td>47</td>\n      <td>55800.746</td>\n      <td>6696.0</td>\n      <td>1116</td>\n      <td>11718000</td>\n      <td>15355000</td>\n      <td>180</td>\n      <td>4935</td>\n      <td>bus</td>\n      <td>0.245323</td>\n      <td>0.75</td>\n      <td>11200</td>\n      <td>56</td>\n      <td>NaN</td>\n      <td>27</td>\n      <td>2.3</td>\n    </tr>\n    <tr>\n      <th>BUSES_GDL003</th>\n      <td>198000</td>\n      <td>5275.548946</td>\n      <td>49</td>\n      <td>63325.790</td>\n      <td>6944.0</td>\n      <td>1267</td>\n      <td>13298000</td>\n      <td>7081000</td>\n      <td>180</td>\n      <td>5145</td>\n      <td>bus</td>\n      <td>0.211944</td>\n      <td>0.79</td>\n      <td>5300</td>\n      <td>58</td>\n      <td>NaN</td>\n      <td>30</td>\n      <td>1.0</td>\n    </tr>\n    <tr>\n      <th>BUSES_GDL004</th>\n      <td>245000</td>\n      <td>11051.464710</td>\n      <td>33</td>\n      <td>35284.331</td>\n      <td>4712.0</td>\n      <td>706</td>\n      <td>7410000</td>\n      <td>9091000</td>\n      <td>180</td>\n      <td>3465</td>\n      <td>bus</td>\n      <td>0.233134</td>\n      <td>0.77</td>\n      <td>11100</td>\n      <td>39</td>\n      <td>NaN</td>\n      <td>16</td>\n      <td>3.2</td>\n    </tr>\n    <tr>\n      <th>BUSES_GDL005</th>\n      <td>217000</td>\n      <td>7256.655311</td>\n      <td>56</td>\n      <td>59659.236</td>\n      <td>8060.0</td>\n      <td>1193</td>\n      <td>12528000</td>\n      <td>4973000</td>\n      <td>180</td>\n      <td>5880</td>\n      <td>bus</td>\n      <td>0.114870</td>\n      <td>0.89</td>\n      <td>7300</td>\n      <td>67</td>\n      <td>NaN</td>\n      <td>27</td>\n      <td>1.2</td>\n    </tr>\n  </tbody>\n</table>\n</div>"
     },
     "execution_count": 62,
     "metadata": {},
     "output_type": "execute_result"
    }
   ],
   "source": [
    "### el DF de lines sigue acumulando variables, visualización\n",
    "lines.head()"
   ],
   "metadata": {
    "collapsed": false,
    "pycharm": {
     "name": "#%%\n"
    }
   }
  },
  {
   "cell_type": "markdown",
   "source": [
    "##### Abordajes totales en todas las lineas"
   ],
   "metadata": {
    "collapsed": false
   }
  },
  {
   "cell_type": "code",
   "execution_count": 111,
   "outputs": [
    {
     "data": {
      "text/plain": "13877000"
     },
     "execution_count": 111,
     "metadata": {},
     "output_type": "execute_result"
    }
   ],
   "source": [
    "lines.boardings.sum() # 14 millones de abordajes, esto dado que el algoritmo de Dijstrtra no se esta ejecutando de una manera realista ya que hay viajes que requiren 7, 10 o más transferencias no nos podemos fiar de este numerp en concreto"
   ],
   "metadata": {
    "collapsed": false,
    "pycharm": {
     "name": "#%%\n"
    }
   }
  },
  {
   "cell_type": "markdown",
   "source": [
    "#####  Viajes totales en TP en hora pico"
   ],
   "metadata": {
    "collapsed": false
   }
  },
  {
   "cell_type": "code",
   "execution_count": 112,
   "outputs": [
    {
     "data": {
      "text/plain": "394069.09079648816"
     },
     "execution_count": 112,
     "metadata": {},
     "output_type": "execute_result"
    }
   ],
   "source": [
    "lines.pt.sum()\n",
    "# el DF de lines dentro de la columna de PT contiene los viajes en hora pico de cada ruta"
   ],
   "metadata": {
    "collapsed": false,
    "pycharm": {
     "name": "#%%\n"
    }
   }
  },
  {
   "cell_type": "code",
   "execution_count": 33,
   "outputs": [],
   "source": [
    "try:\n",
    "    lines.index = [int(i) for i in lines.index]\n",
    "except ValueError: # base\n",
    "    pass\n",
    "lines.sort_index(inplace=True)\n",
    "lines.index.name = 'line'\n",
    "lines['voy_to_seat_km'] = lines['voy_km'] / lines['seat_km'] # Agrega una nueva columna\n",
    "data = lines[\n",
    "    [\n",
    "        'mode', 'km', 'minutes',  'vehicles','vehicle_km',\n",
    "        'voy_km', 'seat_km', 'empty_seats',\n",
    "        'headway', 'capacity',\n",
    "        'max_load', 'saturation', 'boardings'\n",
    "    ]\n",
    "].set_index('mode', append=True).swaplevel().loc[modes]\n",
    "\n",
    "\n",
    "total_boardings = data['boardings'].sum() # crea esta nueva variable que es el total de abordajes\n"
   ],
   "metadata": {
    "collapsed": false,
    "pycharm": {
     "name": "#%%\n"
    }
   }
  },
  {
   "cell_type": "markdown",
   "source": [
    "##### Visualizacion del DF de lines, agrupa los resultados más relevantes para el TP\n"
   ],
   "metadata": {
    "collapsed": false
   }
  },
  {
   "cell_type": "code",
   "execution_count": 114,
   "outputs": [
    {
     "data": {
      "text/plain": "              boardings            pt  vehicles     length    time  \\\nline                                                                 \nBUSES_GDL001     393000   6604.888551        66  71944.758  9424.0   \nBUSES_GDL002     479000  11216.526637        47  55800.746  6696.0   \nBUSES_GDL003     198000   5275.548946        49  63325.790  6944.0   \nBUSES_GDL004     245000  11051.464710        33  35284.331  4712.0   \nBUSES_GDL005     217000   7256.655311        56  59659.236  8060.0   \n\n              vehicle_km   seat_km    voy_km  headway  capacity mode  \\\nline                                                                   \nBUSES_GDL001        1439  15108000   6055000      180      2100  bus   \nBUSES_GDL002        1116  11718000  15355000      180      2100  bus   \nBUSES_GDL003        1267  13298000   7081000      180      2100  bus   \nBUSES_GDL004         706   7410000   9091000      180      2100  bus   \nBUSES_GDL005        1193  12528000   4973000      180      2100  bus   \n\n                design  empty_seats  max_load  minutes  distance_cost  \\\nline                                                                    \nBUSES_GDL001  0.127422         0.87      6600       79        699.354   \nBUSES_GDL002  0.245323         0.75     11200       56        542.376   \nBUSES_GDL003  0.211944         0.79      5300       58        615.762   \nBUSES_GDL004  0.233134         0.77     11100       39        343.116   \nBUSES_GDL005  0.114870         0.89      7300       67        579.798   \n\n              emisions  km  saturation  voy_to_seat_km  \nline                                                    \nBUSES_GDL001   994.349  32         3.1        0.400781  \nBUSES_GDL002   771.156  27         5.3        1.310377  \nBUSES_GDL003   875.497  30         2.5        0.532486  \nBUSES_GDL004   487.846  16         5.3        1.226856  \nBUSES_GDL005   824.363  27         3.5        0.396951  ",
      "text/html": "<div>\n<style scoped>\n    .dataframe tbody tr th:only-of-type {\n        vertical-align: middle;\n    }\n\n    .dataframe tbody tr th {\n        vertical-align: top;\n    }\n\n    .dataframe thead th {\n        text-align: right;\n    }\n</style>\n<table border=\"1\" class=\"dataframe\">\n  <thead>\n    <tr style=\"text-align: right;\">\n      <th></th>\n      <th>boardings</th>\n      <th>pt</th>\n      <th>vehicles</th>\n      <th>length</th>\n      <th>time</th>\n      <th>vehicle_km</th>\n      <th>seat_km</th>\n      <th>voy_km</th>\n      <th>headway</th>\n      <th>capacity</th>\n      <th>mode</th>\n      <th>design</th>\n      <th>empty_seats</th>\n      <th>max_load</th>\n      <th>minutes</th>\n      <th>distance_cost</th>\n      <th>emisions</th>\n      <th>km</th>\n      <th>saturation</th>\n      <th>voy_to_seat_km</th>\n    </tr>\n    <tr>\n      <th>line</th>\n      <th></th>\n      <th></th>\n      <th></th>\n      <th></th>\n      <th></th>\n      <th></th>\n      <th></th>\n      <th></th>\n      <th></th>\n      <th></th>\n      <th></th>\n      <th></th>\n      <th></th>\n      <th></th>\n      <th></th>\n      <th></th>\n      <th></th>\n      <th></th>\n      <th></th>\n      <th></th>\n    </tr>\n  </thead>\n  <tbody>\n    <tr>\n      <th>BUSES_GDL001</th>\n      <td>393000</td>\n      <td>6604.888551</td>\n      <td>66</td>\n      <td>71944.758</td>\n      <td>9424.0</td>\n      <td>1439</td>\n      <td>15108000</td>\n      <td>6055000</td>\n      <td>180</td>\n      <td>2100</td>\n      <td>bus</td>\n      <td>0.127422</td>\n      <td>0.87</td>\n      <td>6600</td>\n      <td>79</td>\n      <td>699.354</td>\n      <td>994.349</td>\n      <td>32</td>\n      <td>3.1</td>\n      <td>0.400781</td>\n    </tr>\n    <tr>\n      <th>BUSES_GDL002</th>\n      <td>479000</td>\n      <td>11216.526637</td>\n      <td>47</td>\n      <td>55800.746</td>\n      <td>6696.0</td>\n      <td>1116</td>\n      <td>11718000</td>\n      <td>15355000</td>\n      <td>180</td>\n      <td>2100</td>\n      <td>bus</td>\n      <td>0.245323</td>\n      <td>0.75</td>\n      <td>11200</td>\n      <td>56</td>\n      <td>542.376</td>\n      <td>771.156</td>\n      <td>27</td>\n      <td>5.3</td>\n      <td>1.310377</td>\n    </tr>\n    <tr>\n      <th>BUSES_GDL003</th>\n      <td>198000</td>\n      <td>5275.548946</td>\n      <td>49</td>\n      <td>63325.790</td>\n      <td>6944.0</td>\n      <td>1267</td>\n      <td>13298000</td>\n      <td>7081000</td>\n      <td>180</td>\n      <td>2100</td>\n      <td>bus</td>\n      <td>0.211944</td>\n      <td>0.79</td>\n      <td>5300</td>\n      <td>58</td>\n      <td>615.762</td>\n      <td>875.497</td>\n      <td>30</td>\n      <td>2.5</td>\n      <td>0.532486</td>\n    </tr>\n    <tr>\n      <th>BUSES_GDL004</th>\n      <td>245000</td>\n      <td>11051.464710</td>\n      <td>33</td>\n      <td>35284.331</td>\n      <td>4712.0</td>\n      <td>706</td>\n      <td>7410000</td>\n      <td>9091000</td>\n      <td>180</td>\n      <td>2100</td>\n      <td>bus</td>\n      <td>0.233134</td>\n      <td>0.77</td>\n      <td>11100</td>\n      <td>39</td>\n      <td>343.116</td>\n      <td>487.846</td>\n      <td>16</td>\n      <td>5.3</td>\n      <td>1.226856</td>\n    </tr>\n    <tr>\n      <th>BUSES_GDL005</th>\n      <td>217000</td>\n      <td>7256.655311</td>\n      <td>56</td>\n      <td>59659.236</td>\n      <td>8060.0</td>\n      <td>1193</td>\n      <td>12528000</td>\n      <td>4973000</td>\n      <td>180</td>\n      <td>2100</td>\n      <td>bus</td>\n      <td>0.114870</td>\n      <td>0.89</td>\n      <td>7300</td>\n      <td>67</td>\n      <td>579.798</td>\n      <td>824.363</td>\n      <td>27</td>\n      <td>3.5</td>\n      <td>0.396951</td>\n    </tr>\n  </tbody>\n</table>\n</div>"
     },
     "execution_count": 114,
     "metadata": {},
     "output_type": "execute_result"
    }
   ],
   "source": [
    "# lines['route_id'] = lines.index  por si quiero agregar una columna extra igual a la del inidice que contiene el route_id\n",
    "lines.head()"
   ],
   "metadata": {
    "collapsed": false,
    "pycharm": {
     "name": "#%%\n"
    }
   }
  },
  {
   "cell_type": "markdown",
   "source": [
    "#### Exportacion del SM con la asignación a la red y del DF que contiene los volumenes por link"
   ],
   "metadata": {
    "collapsed": false
   }
  },
  {
   "cell_type": "code",
   "execution_count": 42,
   "outputs": [
    {
     "name": "stderr",
     "output_type": "stream",
     "text": [
      "stack_routes: 100%|██████████| 36/36 [00:38<00:00,  1.06s/it]            \n"
     ]
    }
   ],
   "source": [
    "sm_gdl.to_zip(training_folder + 'model/base/asigned.zip', omitted_attributes=['pt_los', 'car_los'])"
   ],
   "metadata": {
    "collapsed": false,
    "pycharm": {
     "name": "#%%\n"
    }
   }
  },
  {
   "cell_type": "code",
   "execution_count": 34,
   "outputs": [],
   "source": [
    "lines.to_excel (r'C:/Users/orlan/Documents/UPC/PhD/Redación Tesis/Resultados/resumen_metricas_rutas_quentin.xlsx', index = True)"
   ],
   "metadata": {
    "collapsed": false,
    "pycharm": {
     "name": "#%%\n"
    }
   }
  },
  {
   "cell_type": "markdown",
   "source": [
    "#### FALTA: Visualización espacial, emisiones por zonas, costos operativos de cada linea, calculo del punto de equilibrio de la linea de transsporte\n"
   ],
   "metadata": {
    "collapsed": false,
    "pycharm": {
     "name": "#%% md\n"
    }
   }
  },
  {
   "cell_type": "code",
   "execution_count": null,
   "outputs": [],
   "source": [],
   "metadata": {
    "collapsed": false,
    "pycharm": {
     "name": "#%%\n"
    }
   }
  },
  {
   "cell_type": "code",
   "execution_count": null,
   "outputs": [],
   "source": [],
   "metadata": {
    "collapsed": false,
    "pycharm": {
     "name": "#%%\n"
    }
   }
  },
  {
   "cell_type": "code",
   "execution_count": null,
   "outputs": [],
   "source": [],
   "metadata": {
    "collapsed": false,
    "pycharm": {
     "name": "#%%\n"
    }
   }
  },
  {
   "cell_type": "code",
   "execution_count": null,
   "outputs": [],
   "source": [],
   "metadata": {
    "collapsed": false,
    "pycharm": {
     "name": "#%%\n"
    }
   }
  },
  {
   "cell_type": "code",
   "execution_count": null,
   "outputs": [],
   "source": [
    "\n",
    "\n",
    "\n",
    "\n"
   ],
   "metadata": {
    "collapsed": false,
    "pycharm": {
     "name": "#%%\n"
    }
   }
  }
 ],
 "metadata": {
  "kernelspec": {
   "display_name": "Python 3",
   "language": "python",
   "name": "python3"
  },
  "language_info": {
   "codemirror_mode": {
    "name": "ipython",
    "version": 2
   },
   "file_extension": ".py",
   "mimetype": "text/x-python",
   "name": "python",
   "nbconvert_exporter": "python",
   "pygments_lexer": "ipython2",
   "version": "2.7.6"
  }
 },
 "nbformat": 4,
 "nbformat_minor": 0
}